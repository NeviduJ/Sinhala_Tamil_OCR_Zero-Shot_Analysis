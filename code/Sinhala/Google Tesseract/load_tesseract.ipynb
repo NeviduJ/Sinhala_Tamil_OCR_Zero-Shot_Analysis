{
 "cells": [
  {
   "cell_type": "code",
   "execution_count": 1,
   "metadata": {},
   "outputs": [
    {
     "name": "stdout",
     "output_type": "stream",
     "text": [
      "Requirement already satisfied: pytesseract in /Users/nevidujayatilleke/Documents/MSC - Research/OCR Comparative Analysis/.venv/lib/python3.13/site-packages (0.3.13)\n",
      "Requirement already satisfied: packaging>=21.3 in /Users/nevidujayatilleke/Documents/MSC - Research/OCR Comparative Analysis/.venv/lib/python3.13/site-packages (from pytesseract) (25.0)\n",
      "Requirement already satisfied: Pillow>=8.0.0 in /Users/nevidujayatilleke/Documents/MSC - Research/OCR Comparative Analysis/.venv/lib/python3.13/site-packages (from pytesseract) (11.2.1)\n",
      "Note: you may need to restart the kernel to use updated packages.\n"
     ]
    }
   ],
   "source": [
    "pip install pytesseract"
   ]
  },
  {
   "cell_type": "code",
   "execution_count": 2,
   "metadata": {},
   "outputs": [
    {
     "name": "stdout",
     "output_type": "stream",
     "text": [
      "Requirement already satisfied: Pillow in /Users/nevidujayatilleke/Documents/MSC - Research/OCR Comparative Analysis/.venv/lib/python3.13/site-packages (11.2.1)\n",
      "Note: you may need to restart the kernel to use updated packages.\n"
     ]
    }
   ],
   "source": [
    "pip install Pillow"
   ]
  },
  {
   "cell_type": "code",
   "execution_count": 3,
   "metadata": {},
   "outputs": [
    {
     "name": "stdout",
     "output_type": "stream",
     "text": [
      "Requirement already satisfied: tqdm in /Users/nevidujayatilleke/Documents/MSC - Research/OCR Comparative Analysis/.venv/lib/python3.13/site-packages (4.67.1)\n",
      "Note: you may need to restart the kernel to use updated packages.\n"
     ]
    }
   ],
   "source": [
    "pip install tqdm"
   ]
  },
  {
   "cell_type": "code",
   "execution_count": 4,
   "metadata": {},
   "outputs": [
    {
     "name": "stdout",
     "output_type": "stream",
     "text": [
      "Requirement already satisfied: datasets in /Users/nevidujayatilleke/Documents/MSC - Research/OCR Comparative Analysis/.venv/lib/python3.13/site-packages (3.5.1)\n",
      "Requirement already satisfied: filelock in /Users/nevidujayatilleke/Documents/MSC - Research/OCR Comparative Analysis/.venv/lib/python3.13/site-packages (from datasets) (3.18.0)\n",
      "Requirement already satisfied: numpy>=1.17 in /Users/nevidujayatilleke/Documents/MSC - Research/OCR Comparative Analysis/.venv/lib/python3.13/site-packages (from datasets) (2.2.5)\n",
      "Requirement already satisfied: pyarrow>=15.0.0 in /Users/nevidujayatilleke/Documents/MSC - Research/OCR Comparative Analysis/.venv/lib/python3.13/site-packages (from datasets) (20.0.0)\n",
      "Requirement already satisfied: dill<0.3.9,>=0.3.0 in /Users/nevidujayatilleke/Documents/MSC - Research/OCR Comparative Analysis/.venv/lib/python3.13/site-packages (from datasets) (0.3.8)\n",
      "Requirement already satisfied: pandas in /Users/nevidujayatilleke/Documents/MSC - Research/OCR Comparative Analysis/.venv/lib/python3.13/site-packages (from datasets) (2.2.3)\n",
      "Requirement already satisfied: requests>=2.32.2 in /Users/nevidujayatilleke/Documents/MSC - Research/OCR Comparative Analysis/.venv/lib/python3.13/site-packages (from datasets) (2.32.3)\n",
      "Requirement already satisfied: tqdm>=4.66.3 in /Users/nevidujayatilleke/Documents/MSC - Research/OCR Comparative Analysis/.venv/lib/python3.13/site-packages (from datasets) (4.67.1)\n",
      "Requirement already satisfied: xxhash in /Users/nevidujayatilleke/Documents/MSC - Research/OCR Comparative Analysis/.venv/lib/python3.13/site-packages (from datasets) (3.5.0)\n",
      "Requirement already satisfied: multiprocess<0.70.17 in /Users/nevidujayatilleke/Documents/MSC - Research/OCR Comparative Analysis/.venv/lib/python3.13/site-packages (from datasets) (0.70.16)\n",
      "Requirement already satisfied: fsspec<=2025.3.0,>=2023.1.0 in /Users/nevidujayatilleke/Documents/MSC - Research/OCR Comparative Analysis/.venv/lib/python3.13/site-packages (from fsspec[http]<=2025.3.0,>=2023.1.0->datasets) (2025.3.0)\n",
      "Requirement already satisfied: aiohttp in /Users/nevidujayatilleke/Documents/MSC - Research/OCR Comparative Analysis/.venv/lib/python3.13/site-packages (from datasets) (3.11.18)\n",
      "Requirement already satisfied: huggingface-hub>=0.24.0 in /Users/nevidujayatilleke/Documents/MSC - Research/OCR Comparative Analysis/.venv/lib/python3.13/site-packages (from datasets) (0.30.2)\n",
      "Requirement already satisfied: packaging in /Users/nevidujayatilleke/Documents/MSC - Research/OCR Comparative Analysis/.venv/lib/python3.13/site-packages (from datasets) (25.0)\n",
      "Requirement already satisfied: pyyaml>=5.1 in /Users/nevidujayatilleke/Documents/MSC - Research/OCR Comparative Analysis/.venv/lib/python3.13/site-packages (from datasets) (6.0.2)\n",
      "Requirement already satisfied: aiohappyeyeballs>=2.3.0 in /Users/nevidujayatilleke/Documents/MSC - Research/OCR Comparative Analysis/.venv/lib/python3.13/site-packages (from aiohttp->datasets) (2.6.1)\n",
      "Requirement already satisfied: aiosignal>=1.1.2 in /Users/nevidujayatilleke/Documents/MSC - Research/OCR Comparative Analysis/.venv/lib/python3.13/site-packages (from aiohttp->datasets) (1.3.2)\n",
      "Requirement already satisfied: attrs>=17.3.0 in /Users/nevidujayatilleke/Documents/MSC - Research/OCR Comparative Analysis/.venv/lib/python3.13/site-packages (from aiohttp->datasets) (25.3.0)\n",
      "Requirement already satisfied: frozenlist>=1.1.1 in /Users/nevidujayatilleke/Documents/MSC - Research/OCR Comparative Analysis/.venv/lib/python3.13/site-packages (from aiohttp->datasets) (1.6.0)\n",
      "Requirement already satisfied: multidict<7.0,>=4.5 in /Users/nevidujayatilleke/Documents/MSC - Research/OCR Comparative Analysis/.venv/lib/python3.13/site-packages (from aiohttp->datasets) (6.4.3)\n",
      "Requirement already satisfied: propcache>=0.2.0 in /Users/nevidujayatilleke/Documents/MSC - Research/OCR Comparative Analysis/.venv/lib/python3.13/site-packages (from aiohttp->datasets) (0.3.1)\n",
      "Requirement already satisfied: yarl<2.0,>=1.17.0 in /Users/nevidujayatilleke/Documents/MSC - Research/OCR Comparative Analysis/.venv/lib/python3.13/site-packages (from aiohttp->datasets) (1.20.0)\n",
      "Requirement already satisfied: idna>=2.0 in /Users/nevidujayatilleke/Documents/MSC - Research/OCR Comparative Analysis/.venv/lib/python3.13/site-packages (from yarl<2.0,>=1.17.0->aiohttp->datasets) (3.10)\n",
      "Requirement already satisfied: typing-extensions>=3.7.4.3 in /Users/nevidujayatilleke/Documents/MSC - Research/OCR Comparative Analysis/.venv/lib/python3.13/site-packages (from huggingface-hub>=0.24.0->datasets) (4.13.2)\n",
      "Requirement already satisfied: charset-normalizer<4,>=2 in /Users/nevidujayatilleke/Documents/MSC - Research/OCR Comparative Analysis/.venv/lib/python3.13/site-packages (from requests>=2.32.2->datasets) (3.4.2)\n",
      "Requirement already satisfied: urllib3<3,>=1.21.1 in /Users/nevidujayatilleke/Documents/MSC - Research/OCR Comparative Analysis/.venv/lib/python3.13/site-packages (from requests>=2.32.2->datasets) (2.4.0)\n",
      "Requirement already satisfied: certifi>=2017.4.17 in /Users/nevidujayatilleke/Documents/MSC - Research/OCR Comparative Analysis/.venv/lib/python3.13/site-packages (from requests>=2.32.2->datasets) (2025.4.26)\n",
      "Requirement already satisfied: python-dateutil>=2.8.2 in /Users/nevidujayatilleke/Documents/MSC - Research/OCR Comparative Analysis/.venv/lib/python3.13/site-packages (from pandas->datasets) (2.9.0.post0)\n",
      "Requirement already satisfied: pytz>=2020.1 in /Users/nevidujayatilleke/Documents/MSC - Research/OCR Comparative Analysis/.venv/lib/python3.13/site-packages (from pandas->datasets) (2025.2)\n",
      "Requirement already satisfied: tzdata>=2022.7 in /Users/nevidujayatilleke/Documents/MSC - Research/OCR Comparative Analysis/.venv/lib/python3.13/site-packages (from pandas->datasets) (2025.2)\n",
      "Requirement already satisfied: six>=1.5 in /Users/nevidujayatilleke/Documents/MSC - Research/OCR Comparative Analysis/.venv/lib/python3.13/site-packages (from python-dateutil>=2.8.2->pandas->datasets) (1.17.0)\n",
      "Note: you may need to restart the kernel to use updated packages.\n"
     ]
    }
   ],
   "source": [
    "pip install datasets"
   ]
  },
  {
   "cell_type": "code",
   "execution_count": 5,
   "metadata": {},
   "outputs": [
    {
     "name": "stdout",
     "output_type": "stream",
     "text": [
      "Requirement already satisfied: jiwer in /Users/nevidujayatilleke/Documents/MSC - Research/OCR Comparative Analysis/.venv/lib/python3.13/site-packages (3.1.0)\n",
      "Requirement already satisfied: click>=8.1.8 in /Users/nevidujayatilleke/Documents/MSC - Research/OCR Comparative Analysis/.venv/lib/python3.13/site-packages (from jiwer) (8.1.8)\n",
      "Requirement already satisfied: rapidfuzz>=3.9.7 in /Users/nevidujayatilleke/Documents/MSC - Research/OCR Comparative Analysis/.venv/lib/python3.13/site-packages (from jiwer) (3.13.0)\n",
      "Note: you may need to restart the kernel to use updated packages.\n"
     ]
    }
   ],
   "source": [
    "pip install jiwer"
   ]
  },
  {
   "cell_type": "code",
   "execution_count": 6,
   "metadata": {},
   "outputs": [],
   "source": [
    "import pytesseract\n",
    "from PIL import Image\n",
    "from tqdm import tqdm\n",
    "import pandas as pd"
   ]
  },
  {
   "cell_type": "code",
   "execution_count": 7,
   "metadata": {},
   "outputs": [],
   "source": [
    "pytesseract.pytesseract.tesseract_cmd = r'/opt/homebrew/bin/tesseract'"
   ]
  },
  {
   "cell_type": "code",
   "execution_count": null,
   "metadata": {},
   "outputs": [
    {
     "name": "stderr",
     "output_type": "stream",
     "text": [
      "/Users/nevidujayatilleke/Documents/MSC - Research/OCR Comparative Analysis/.venv/lib/python3.13/site-packages/tqdm/auto.py:21: TqdmWarning: IProgress not found. Please update jupyter and ipywidgets. See https://ipywidgets.readthedocs.io/en/stable/user_install.html\n",
      "  from .autonotebook import tqdm as notebook_tqdm\n"
     ]
    }
   ],
   "source": [
    "from datasets import load_dataset\n",
    "\n",
    "dataset = load_dataset(\"Ransaka/sinhala_synthetic_ocr-large\")"
   ]
  },
  {
   "cell_type": "code",
   "execution_count": null,
   "metadata": {},
   "outputs": [
    {
     "name": "stdout",
     "output_type": "stream",
     "text": [
      "DatasetDict({\n",
      "    train: Dataset({\n",
      "        features: ['image', 'text'],\n",
      "        num_rows: 6969\n",
      "    })\n",
      "})\n"
     ]
    }
   ],
   "source": [
    "print(dataset)"
   ]
  },
  {
   "cell_type": "code",
   "execution_count": 10,
   "metadata": {},
   "outputs": [],
   "source": [
    "train_dataset = dataset[\"train\"]"
   ]
  },
  {
   "cell_type": "code",
   "execution_count": 11,
   "metadata": {},
   "outputs": [
    {
     "name": "stdout",
     "output_type": "stream",
     "text": [
      "{'image': <PIL.PngImagePlugin.PngImageFile image mode=RGB size=2600x128 at 0x10F11D010>, 'text': 'ඔහු සතුව තිබී හෙරොයින් කිලෝග්රෑම් 1ක් සොයා ගත් අතර ඔහු'}\n",
      "{'image': <PIL.PngImagePlugin.PngImageFile image mode=RGB size=2600x128 at 0x10F1256D0>, 'text': 'මේ තරම් මහන්සි වෙලා, ලස්සන අත්දැකීමක් අපිටත් ලගා කරලා දුන්නට දිනේශ් අයියට අනේක වාරයක්'}\n",
      "{'image': <PIL.PngImagePlugin.PngImageFile image mode=RGB size=2600x128 at 0x10EBFB390>, 'text': 'සාමාන්යයෙන් කාර් බැටරියකින් මාස දෙකක් පමණ රේඩියෝව අහන්න පුළුවන්. හැබැයි'}\n",
      "{'image': <PIL.PngImagePlugin.PngImageFile image mode=RGB size=2600x128 at 0x10F116650>, 'text': 'ජනාධිපති මහින්ද රාජපක්ෂට තම වසර 4 ක නිල කාලය සම්පුර්ණ වු විට මැතිවරණයක්'}\n",
      "{'image': <PIL.PngImagePlugin.PngImageFile image mode=RGB size=2600x128 at 0x10F116650>, 'text': 'කාර්යාලීය ඇඳුම්, හවස්වරුවේ සාද සඳහා ඇදුම්, ලිනන් හා ඩෙනිම් ඇඳුම්, යට ඇඳුම් පරාසයක් පවතින අතර අවශ්ය'}\n"
     ]
    }
   ],
   "source": [
    "for i in range(5):\n",
    "    print(train_dataset[i])"
   ]
  },
  {
   "cell_type": "code",
   "execution_count": 12,
   "metadata": {},
   "outputs": [],
   "source": [
    "def perform_ocr(image):\n",
    "    try:\n",
    "        text = pytesseract.image_to_string(image.convert('RGB'), lang='sin')\n",
    "        return text.strip()\n",
    "    except Exception as e:\n",
    "        print(f\"Error during OCR: {e}\")\n",
    "        return None"
   ]
  },
  {
   "cell_type": "code",
   "execution_count": 13,
   "metadata": {},
   "outputs": [
    {
     "name": "stderr",
     "output_type": "stream",
     "text": [
      "100%|██████████| 6969/6969 [12:38<00:00,  9.19it/s]\n"
     ]
    }
   ],
   "source": [
    "results = []\n",
    "for i in tqdm(range(len(dataset['train']))):\n",
    "    item = dataset['train'][i]\n",
    "    image = item['image']\n",
    "    reference_text = item['text']\n",
    "    generated_text = perform_ocr(image)\n",
    "    results.append({'reference': reference_text, 'generated': generated_text})"
   ]
  },
  {
   "cell_type": "code",
   "execution_count": 14,
   "metadata": {},
   "outputs": [],
   "source": [
    "df = pd.DataFrame(results)"
   ]
  },
  {
   "cell_type": "code",
   "execution_count": 17,
   "metadata": {},
   "outputs": [
    {
     "data": {
      "text/html": [
       "<div>\n",
       "<style scoped>\n",
       "    .dataframe tbody tr th:only-of-type {\n",
       "        vertical-align: middle;\n",
       "    }\n",
       "\n",
       "    .dataframe tbody tr th {\n",
       "        vertical-align: top;\n",
       "    }\n",
       "\n",
       "    .dataframe thead th {\n",
       "        text-align: right;\n",
       "    }\n",
       "</style>\n",
       "<table border=\"1\" class=\"dataframe\">\n",
       "  <thead>\n",
       "    <tr style=\"text-align: right;\">\n",
       "      <th></th>\n",
       "      <th>reference</th>\n",
       "      <th>generated</th>\n",
       "    </tr>\n",
       "  </thead>\n",
       "  <tbody>\n",
       "    <tr>\n",
       "      <th>0</th>\n",
       "      <td>ඔහු සතුව තිබී හෙරොයින් කිලෝග්රෑම් 1ක් සොයා ගත්...</td>\n",
       "      <td>ඔහු සනුව තිබී හෙරොයින්‌ කිලෝග්රෑම්‌ 1ක්‌ සොයා ...</td>\n",
       "    </tr>\n",
       "    <tr>\n",
       "      <th>1</th>\n",
       "      <td>මේ තරම් මහන්සි වෙලා, ලස්සන අත්දැකීමක් අපිටත් ල...</td>\n",
       "      <td>මේ තරම්‌ මහන්සි වෙලා, ලස්සන අත්දැකීමක්‌ අපිටත්...</td>\n",
       "    </tr>\n",
       "    <tr>\n",
       "      <th>2</th>\n",
       "      <td>සාමාන්යයෙන් කාර් බැටරියකින් මාස දෙකක් පමණ රේඩි...</td>\n",
       "      <td>සාමාන්යයෙන්‌ කාර්‌ බැටරියකින්‌ මාස දෙකක්‌ පමණ ...</td>\n",
       "    </tr>\n",
       "    <tr>\n",
       "      <th>3</th>\n",
       "      <td>ජනාධිපති මහින්ද රාජපක්ෂට තම වසර 4 ක නිල කාලය ස...</td>\n",
       "      <td>ජනාධිපති මහින්ද රාජපක්ෂට තම වසර 4 ක නිල කාලය ස...</td>\n",
       "    </tr>\n",
       "    <tr>\n",
       "      <th>4</th>\n",
       "      <td>කාර්යාලීය ඇඳුම්, හවස්වරුවේ සාද සඳහා ඇදුම්, ලින...</td>\n",
       "      <td>ය]1[1(81[:)8 £1/1(26), (1)£)(3£)(1/:1ව] 316 (3...</td>\n",
       "    </tr>\n",
       "    <tr>\n",
       "      <th>5</th>\n",
       "      <td>නිවනට යන්න තෘශ්ණාවක් ඕනේ ඒක කුසලමූල තන්හාව.. ඒ...</td>\n",
       "      <td>නුවනට යන්න ඞෘ0%වාවක්‌ ඕනේ ඒ කූසලමූල නන්ඩාව.. ඒ...</td>\n",
       "    </tr>\n",
       "    <tr>\n",
       "      <th>6</th>\n",
       "      <td>, 4 , , , , . 0772104663, 0112845449 කොට්ටාව ක...</td>\n",
       "      <td>, 4 , , , , . 0772104603, 0112849410 කොට්ටාව ක...</td>\n",
       "    </tr>\n",
       "    <tr>\n",
       "      <th>7</th>\n",
       "      <td>බුදු සරණයි පුතේ.... ක්ෂුද්‍ර ජීවී විද්‍යාව පිල...</td>\n",
       "      <td>බුදු සරණයි පුතේ.... ක්ෂුද්‍ර රීවී විද්‍යාව පිල...</td>\n",
       "    </tr>\n",
       "    <tr>\n",
       "      <th>8</th>\n",
       "      <td>හරීන්ද්‍ර මම කැමැති චරිතයක්. ඔබට සැප හා ජය. සච...</td>\n",
       "      <td>හරීන්ද්‍ර මම කැමැති චරිතයක්‌. ඔබට සැප හා ජය. ස...</td>\n",
       "    </tr>\n",
       "    <tr>\n",
       "      <th>9</th>\n",
       "      <td>මාධ්ය නිදහස නැ කියලා බෙරිහන් දෙන මහින්ද ප්රමුක...</td>\n",
       "      <td>මාධිය නිදහස නැ කියලා බෙරිහන්‌ දෙන මහින්ද ප්රමු...</td>\n",
       "    </tr>\n",
       "    <tr>\n",
       "      <th>10</th>\n",
       "      <td>(පින් කරපං මෙ කමෙන්ට් එක) අනේ හුත්තො ,ඉංගලන්තෙ...</td>\n",
       "      <td>(පින්‌ කරපං මෙ කමෙන්ටි එක) අනේ හුත්තො ,ඉංගලන්‌...</td>\n",
       "    </tr>\n",
       "    <tr>\n",
       "      <th>11</th>\n",
       "      <td>යුක්රේන ජනාධිපති එරටින් පළා ගොස් ප්රහාරවලින් බ...</td>\n",
       "      <td>යුක්රේන ජනාධිපති එරටින්‌ පළා ගොස්‌ ප්රහාරවලින්...</td>\n",
       "    </tr>\n",
       "    <tr>\n",
       "      <th>12</th>\n",
       "      <td>මේ අතර කොටහේනේ වෙඩි තැබීමේ සිද්ධියට සම්බන්ධ සැ...</td>\n",
       "      <td>මේ අතර කොටහේනේ වෙඩි තැබීම්‌ සිද්ධියට සම්බන්ධ ස...</td>\n",
       "    </tr>\n",
       "    <tr>\n",
       "      <th>13</th>\n",
       "      <td>අන්න ඒ වෙලාව වෙද්දි අපේ නැන්දම්මගෙ නෑයෙක්ට, නැ...</td>\n",
       "      <td>අන්න එ වෙලාව වෙද්දි අපේ නැන්දම්මගෙ නෑයෙක්ට, නැ...</td>\n",
       "    </tr>\n",
       "    <tr>\n",
       "      <th>14</th>\n",
       "      <td>අපි ජෝඩු බලන්න බඹරැල්ල පහු කරලා ටික දුරක් ගිහි...</td>\n",
       "      <td>අපි ජෝඩු බලන්න බඹරැල්ල පහු කරලා ටික දුරක්‌ ගිහ...</td>\n",
       "    </tr>\n",
       "    <tr>\n",
       "      <th>15</th>\n",
       "      <td>ඉරාක් යුද්ධයෙන් මියගිය බ්රිතාන්යය සොල්දාදුවන්ග...</td>\n",
       "      <td>ඉරාක්‌ යුද්ධයෙන්‌ මියගිය බ්රිතාන්යය සොල්දාදුවන...</td>\n",
       "    </tr>\n",
       "    <tr>\n",
       "      <th>16</th>\n",
       "      <td>ඔලුවලට ඇන ගසා දෙතිස් වද දී 60 දහසක් තරුණයන් මැ...</td>\n",
       "      <td>ඔලුවලට ඇන ගසා දෙතිස්‌ වද දී 60 දහසක්‌ තරුණයන්‌...</td>\n",
       "    </tr>\n",
       "    <tr>\n",
       "      <th>17</th>\n",
       "      <td>අප අසා ඇත්තේ දවස ආරම්භ කිරීමේදී උදෑසනම ජලය පාන...</td>\n",
       "      <td>අප අසා ඇත්තේ දවස ආරම්භ කිරීමේදී උදෑසනම ජලය පාන...</td>\n",
       "    </tr>\n",
       "    <tr>\n",
       "      <th>18</th>\n",
       "      <td>පිළිතුර:- එතුමා කිව්වා වෙච්ච හොරකම්, ගනුදෙනු ග...</td>\n",
       "      <td>පිළිතුර:- එතුමා කිව්වා වෙච්ච හොරකම්‌, ගනුදෙනු ...</td>\n",
       "    </tr>\n",
       "    <tr>\n",
       "      <th>19</th>\n",
       "      <td>සෞඛ්යය – පපුව ආශ්රිත සෙම් රෝග බහුල වනවා ඇත. ස්...</td>\n",
       "      <td>සෞඛ්යය -~ පපුව ආශ්රිත සෙමි රෝග බහුල වනවා ඇත. ස...</td>\n",
       "    </tr>\n",
       "  </tbody>\n",
       "</table>\n",
       "</div>"
      ],
      "text/plain": [
       "                                            reference  \\\n",
       "0   ඔහු සතුව තිබී හෙරොයින් කිලෝග්රෑම් 1ක් සොයා ගත්...   \n",
       "1   මේ තරම් මහන්සි වෙලා, ලස්සන අත්දැකීමක් අපිටත් ල...   \n",
       "2   සාමාන්යයෙන් කාර් බැටරියකින් මාස දෙකක් පමණ රේඩි...   \n",
       "3   ජනාධිපති මහින්ද රාජපක්ෂට තම වසර 4 ක නිල කාලය ස...   \n",
       "4   කාර්යාලීය ඇඳුම්, හවස්වරුවේ සාද සඳහා ඇදුම්, ලින...   \n",
       "5   නිවනට යන්න තෘශ්ණාවක් ඕනේ ඒක කුසලමූල තන්හාව.. ඒ...   \n",
       "6   , 4 , , , , . 0772104663, 0112845449 කොට්ටාව ක...   \n",
       "7   බුදු සරණයි පුතේ.... ක්ෂුද්‍ර ජීවී විද්‍යාව පිල...   \n",
       "8   හරීන්ද්‍ර මම කැමැති චරිතයක්. ඔබට සැප හා ජය. සච...   \n",
       "9   මාධ්ය නිදහස නැ කියලා බෙරිහන් දෙන මහින්ද ප්රමුක...   \n",
       "10  (පින් කරපං මෙ කමෙන්ට් එක) අනේ හුත්තො ,ඉංගලන්තෙ...   \n",
       "11  යුක්රේන ජනාධිපති එරටින් පළා ගොස් ප්රහාරවලින් බ...   \n",
       "12  මේ අතර කොටහේනේ වෙඩි තැබීමේ සිද්ධියට සම්බන්ධ සැ...   \n",
       "13  අන්න ඒ වෙලාව වෙද්දි අපේ නැන්දම්මගෙ නෑයෙක්ට, නැ...   \n",
       "14  අපි ජෝඩු බලන්න බඹරැල්ල පහු කරලා ටික දුරක් ගිහි...   \n",
       "15  ඉරාක් යුද්ධයෙන් මියගිය බ්රිතාන්යය සොල්දාදුවන්ග...   \n",
       "16  ඔලුවලට ඇන ගසා දෙතිස් වද දී 60 දහසක් තරුණයන් මැ...   \n",
       "17  අප අසා ඇත්තේ දවස ආරම්භ කිරීමේදී උදෑසනම ජලය පාන...   \n",
       "18  පිළිතුර:- එතුමා කිව්වා වෙච්ච හොරකම්, ගනුදෙනු ග...   \n",
       "19  සෞඛ්යය – පපුව ආශ්රිත සෙම් රෝග බහුල වනවා ඇත. ස්...   \n",
       "\n",
       "                                            generated  \n",
       "0   ඔහු සනුව තිබී හෙරොයින්‌ කිලෝග්රෑම්‌ 1ක්‌ සොයා ...  \n",
       "1   මේ තරම්‌ මහන්සි වෙලා, ලස්සන අත්දැකීමක්‌ අපිටත්...  \n",
       "2   සාමාන්යයෙන්‌ කාර්‌ බැටරියකින්‌ මාස දෙකක්‌ පමණ ...  \n",
       "3   ජනාධිපති මහින්ද රාජපක්ෂට තම වසර 4 ක නිල කාලය ස...  \n",
       "4   ය]1[1(81[:)8 £1/1(26), (1)£)(3£)(1/:1ව] 316 (3...  \n",
       "5   නුවනට යන්න ඞෘ0%වාවක්‌ ඕනේ ඒ කූසලමූල නන්ඩාව.. ඒ...  \n",
       "6   , 4 , , , , . 0772104603, 0112849410 කොට්ටාව ක...  \n",
       "7   බුදු සරණයි පුතේ.... ක්ෂුද්‍ර රීවී විද්‍යාව පිල...  \n",
       "8   හරීන්ද්‍ර මම කැමැති චරිතයක්‌. ඔබට සැප හා ජය. ස...  \n",
       "9   මාධිය නිදහස නැ කියලා බෙරිහන්‌ දෙන මහින්ද ප්රමු...  \n",
       "10  (පින්‌ කරපං මෙ කමෙන්ටි එක) අනේ හුත්තො ,ඉංගලන්‌...  \n",
       "11  යුක්රේන ජනාධිපති එරටින්‌ පළා ගොස්‌ ප්රහාරවලින්...  \n",
       "12  මේ අතර කොටහේනේ වෙඩි තැබීම්‌ සිද්ධියට සම්බන්ධ ස...  \n",
       "13  අන්න එ වෙලාව වෙද්දි අපේ නැන්දම්මගෙ නෑයෙක්ට, නැ...  \n",
       "14  අපි ජෝඩු බලන්න බඹරැල්ල පහු කරලා ටික දුරක්‌ ගිහ...  \n",
       "15  ඉරාක්‌ යුද්ධයෙන්‌ මියගිය බ්රිතාන්යය සොල්දාදුවන...  \n",
       "16  ඔලුවලට ඇන ගසා දෙතිස්‌ වද දී 60 දහසක්‌ තරුණයන්‌...  \n",
       "17  අප අසා ඇත්තේ දවස ආරම්භ කිරීමේදී උදෑසනම ජලය පාන...  \n",
       "18  පිළිතුර:- එතුමා කිව්වා වෙච්ච හොරකම්‌, ගනුදෙනු ...  \n",
       "19  සෞඛ්යය -~ පපුව ආශ්රිත සෙමි රෝග බහුල වනවා ඇත. ස...  "
      ]
     },
     "execution_count": 17,
     "metadata": {},
     "output_type": "execute_result"
    }
   ],
   "source": [
    "df.head(20)"
   ]
  },
  {
   "cell_type": "code",
   "execution_count": 18,
   "metadata": {},
   "outputs": [],
   "source": [
    "df.to_csv(\"Tesseract_OCR_Results.csv\", index = False)"
   ]
  },
  {
   "cell_type": "code",
   "execution_count": 19,
   "metadata": {},
   "outputs": [],
   "source": [
    "from jiwer import wer, cer"
   ]
  },
  {
   "cell_type": "code",
   "execution_count": 29,
   "metadata": {},
   "outputs": [
    {
     "name": "stdout",
     "output_type": "stream",
     "text": [
      "reference    None\n",
      "generated        \n",
      "Name: 2929, dtype: object\n",
      "2929\n"
     ]
    }
   ],
   "source": [
    "agg_error_wer = 0\n",
    "agg_error_cer = 0\n",
    "for i in range(len(df)):\n",
    "    record = df.iloc[i]\n",
    "    try:\n",
    "        error_wer = wer(record['reference'], record['generated'])\n",
    "        error_cer = cer(record['reference'], record['generated'])\n",
    "    except:\n",
    "        print(record)\n",
    "        print(i)\n",
    "    agg_error_wer += error_wer\n",
    "    agg_error_cer += error_cer"
   ]
  },
  {
   "cell_type": "code",
   "execution_count": 30,
   "metadata": {},
   "outputs": [
    {
     "name": "stdout",
     "output_type": "stream",
     "text": [
      "Word Error Rate (WER): 0.33510160424609364\n"
     ]
    }
   ],
   "source": [
    "print(f\"Word Error Rate (WER): {agg_error_wer/ len(df)}\")"
   ]
  },
  {
   "cell_type": "code",
   "execution_count": 32,
   "metadata": {},
   "outputs": [
    {
     "name": "stdout",
     "output_type": "stream",
     "text": [
      "Character Error Rate (CER): 0.12540145511045728\n"
     ]
    }
   ],
   "source": [
    "print(f\"Character Error Rate (CER): {agg_error_cer/ len(df)}\")"
   ]
  },
  {
   "cell_type": "code",
   "execution_count": null,
   "metadata": {},
   "outputs": [],
   "source": []
  }
 ],
 "metadata": {
  "kernelspec": {
   "display_name": ".venv",
   "language": "python",
   "name": "python3"
  },
  "language_info": {
   "codemirror_mode": {
    "name": "ipython",
    "version": 3
   },
   "file_extension": ".py",
   "mimetype": "text/x-python",
   "name": "python",
   "nbconvert_exporter": "python",
   "pygments_lexer": "ipython3",
   "version": "3.12.8"
  }
 },
 "nbformat": 4,
 "nbformat_minor": 2
}
