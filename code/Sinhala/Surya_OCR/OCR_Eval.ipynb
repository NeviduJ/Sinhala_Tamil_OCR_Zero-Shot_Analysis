{
 "cells": [
  {
   "cell_type": "code",
   "execution_count": 1,
   "metadata": {},
   "outputs": [],
   "source": [
    "from jiwer import wer, cer"
   ]
  },
  {
   "cell_type": "code",
   "execution_count": 2,
   "metadata": {},
   "outputs": [],
   "source": [
    "import pandas as pd\n",
    "import re"
   ]
  },
  {
   "cell_type": "code",
   "execution_count": 3,
   "metadata": {},
   "outputs": [],
   "source": [
    "df = pd.read_csv(\"Surya_OCR_Results.csv\")"
   ]
  },
  {
   "cell_type": "code",
   "execution_count": 4,
   "metadata": {},
   "outputs": [
    {
     "data": {
      "text/html": [
       "<div>\n",
       "<style scoped>\n",
       "    .dataframe tbody tr th:only-of-type {\n",
       "        vertical-align: middle;\n",
       "    }\n",
       "\n",
       "    .dataframe tbody tr th {\n",
       "        vertical-align: top;\n",
       "    }\n",
       "\n",
       "    .dataframe thead th {\n",
       "        text-align: right;\n",
       "    }\n",
       "</style>\n",
       "<table border=\"1\" class=\"dataframe\">\n",
       "  <thead>\n",
       "    <tr style=\"text-align: right;\">\n",
       "      <th></th>\n",
       "      <th>reference</th>\n",
       "      <th>generated</th>\n",
       "    </tr>\n",
       "  </thead>\n",
       "  <tbody>\n",
       "    <tr>\n",
       "      <th>0</th>\n",
       "      <td>ඔහු සතුව තිබී හෙරොයින් කිලෝග්රෑම් 1ක් සොයා ගත්...</td>\n",
       "      <td>ඔහු සතුව තිබී හෙරොයින් කිලෝග්‍රෑම් 1ක් සොයා ගත...</td>\n",
       "    </tr>\n",
       "    <tr>\n",
       "      <th>1</th>\n",
       "      <td>මේ තරම් මහන්සි වෙලා, ලස්සන අත්දැකීමක් අපිටත් ල...</td>\n",
       "      <td>මේ තරම් මහන්සි වෙලා, ලස්සන අත්දැකීමක් අපිටත් ල...</td>\n",
       "    </tr>\n",
       "    <tr>\n",
       "      <th>2</th>\n",
       "      <td>සාමාන්යයෙන් කාර් බැටරියකින් මාස දෙකක් පමණ රේඩි...</td>\n",
       "      <td>සාමාන්‍යයෙන් කාර් බැටරියකින් මාස දෙකක් පමණ රේඩ...</td>\n",
       "    </tr>\n",
       "    <tr>\n",
       "      <th>3</th>\n",
       "      <td>ජනාධිපති මහින්ද රාජපක්ෂට තම වසර 4 ක නිල කාලය ස...</td>\n",
       "      <td>ජනාධිපති මහින්ද රාජපක්ෂට තම වසර 4 ක නිල කාලය ස...</td>\n",
       "    </tr>\n",
       "    <tr>\n",
       "      <th>4</th>\n",
       "      <td>කාර්යාලීය ඇඳුම්, හවස්වරුවේ සාද සඳහා ඇදුම්, ලින...</td>\n",
       "      <td>කාර්යාලීය ඇඳුම්, හවස්වරුවේ සාද සඳහා ඇදුම්, ලින...</td>\n",
       "    </tr>\n",
       "    <tr>\n",
       "      <th>5</th>\n",
       "      <td>නිවනට යන්න තෘශ්ණාවක් ඕනේ ඒක කුසලමූල තන්හාව.. ඒ...</td>\n",
       "      <td>නිවනට යන්න තෘශ්ණාවක් ඕනේ ඒක කුසලමූල තන්හාව.. ඒ...</td>\n",
       "    </tr>\n",
       "    <tr>\n",
       "      <th>6</th>\n",
       "      <td>, 4 , , , , . 0772104663, 0112845449 කොට්ටාව ක...</td>\n",
       "      <td>, 4 , , , , 0772104663, 0112845449 කොට්ටාව කාම...</td>\n",
       "    </tr>\n",
       "    <tr>\n",
       "      <th>7</th>\n",
       "      <td>බුදු සරණයි පුතේ.... ක්ෂුද්‍ර ජීවී විද්‍යාව පිල...</td>\n",
       "      <td>බුදු සරණයි පුතේ.... ක්ෂුද්‍ර ජීවී විද්‍යාව පිල...</td>\n",
       "    </tr>\n",
       "    <tr>\n",
       "      <th>8</th>\n",
       "      <td>හරීන්ද්‍ර මම කැමැති චරිතයක්. ඔබට සැප හා ජය. සච...</td>\n",
       "      <td>හරීන්දු මම කැමැති චරිතයක්. ඔබට සැප හා ජය. සචින...</td>\n",
       "    </tr>\n",
       "    <tr>\n",
       "      <th>9</th>\n",
       "      <td>මාධ්ය නිදහස නැ කියලා බෙරිහන් දෙන මහින්ද ප්රමුක...</td>\n",
       "      <td>මාධ්‍ය නිදහස නැ කියලා බෙරිහන් දෙන මහින්ද ප්‍රම...</td>\n",
       "    </tr>\n",
       "    <tr>\n",
       "      <th>10</th>\n",
       "      <td>(පින් කරපං මෙ කමෙන්ට් එක) අනේ හුත්තො ,ඉංගලන්තෙ...</td>\n",
       "      <td>(පින් කරපං මෙ කමෙන්ට් එක) අනේ හුත්තො ,ඉංගලන්තෙ...</td>\n",
       "    </tr>\n",
       "    <tr>\n",
       "      <th>11</th>\n",
       "      <td>යුක්රේන ජනාධිපති එරටින් පළා ගොස් ප්රහාරවලින් බ...</td>\n",
       "      <td>යුක්‍රේන ජනාධිපති එරටින් පළා ගොස් ප්‍රහාරවලින්...</td>\n",
       "    </tr>\n",
       "    <tr>\n",
       "      <th>12</th>\n",
       "      <td>මේ අතර කොටහේනේ වෙඩි තැබීමේ සිද්ධියට සම්බන්ධ සැ...</td>\n",
       "      <td>මේ අතර කොටහේනේ වෙඩි තැබීමේ සිද්ධියට සම්බන්ධ සැ...</td>\n",
       "    </tr>\n",
       "    <tr>\n",
       "      <th>13</th>\n",
       "      <td>අන්න ඒ වෙලාව වෙද්දි අපේ නැන්දම්මගෙ නෑයෙක්ට, නැ...</td>\n",
       "      <td>අන්න ඒ වෙලාව වෙද්දි අපේ නැන්දම්මගෙ නෑයෙක්ට, නැ...</td>\n",
       "    </tr>\n",
       "    <tr>\n",
       "      <th>14</th>\n",
       "      <td>අපි ජෝඩු බලන්න බඹරැල්ල පහු කරලා ටික දුරක් ගිහි...</td>\n",
       "      <td>අපි ජෝඩු බලන්න බඹරැල්ල පහු කරලා ටික දුරක් ගිහි...</td>\n",
       "    </tr>\n",
       "    <tr>\n",
       "      <th>15</th>\n",
       "      <td>ඉරාක් යුද්ධයෙන් මියගිය බ්රිතාන්යය සොල්දාදුවන්ග...</td>\n",
       "      <td>ඉරාක් යුද්ධයෙන් මියගිය බ්‍රිතාන්‍යය සොල්දාදුවන...</td>\n",
       "    </tr>\n",
       "    <tr>\n",
       "      <th>16</th>\n",
       "      <td>ඔලුවලට ඇන ගසා දෙතිස් වද දී 60 දහසක් තරුණයන් මැ...</td>\n",
       "      <td>ඔලුවලට ඇන ගසා දෙතිස් වද දී 60 දහසක් තරුණයන් මැ...</td>\n",
       "    </tr>\n",
       "    <tr>\n",
       "      <th>17</th>\n",
       "      <td>අප අසා ඇත්තේ දවස ආරම්භ කිරීමේදී උදෑසනම ජලය පාන...</td>\n",
       "      <td>අප අසා ඇත්තේ දවස ආරම්භ කිරීමේදී උදෑසනම ජලය පාන...</td>\n",
       "    </tr>\n",
       "    <tr>\n",
       "      <th>18</th>\n",
       "      <td>පිළිතුර:- එතුමා කිව්වා වෙච්ච හොරකම්, ගනුදෙනු ග...</td>\n",
       "      <td>පිළිතුර:- එතුමා කිව්වා වෙච්ච හොරකම්, ගනුදෙනු ග...</td>\n",
       "    </tr>\n",
       "    <tr>\n",
       "      <th>19</th>\n",
       "      <td>සෞඛ්යය – පපුව ආශ්රිත සෙම් රෝග බහුල වනවා ඇත. ස්...</td>\n",
       "      <td>සෞඛ්‍යය – පපුව ආශ්‍රිත සෙම් රෝග බහුල වනවා ඇත. ...</td>\n",
       "    </tr>\n",
       "    <tr>\n",
       "      <th>20</th>\n",
       "      <td>එසේ තිබියදීත් ක්රීඩකයින් තමන්ගේ ජාතික වගකීම් ව...</td>\n",
       "      <td>එසේ තිබියදීන් ක්රීඩකයින් තමන්ගේ පිටින් නිදහස් ...</td>\n",
       "    </tr>\n",
       "    <tr>\n",
       "      <th>21</th>\n",
       "      <td>කොළඹ සරසවියෙන් වෛද්ය විද්යා ප්රථම උපාධියත්, ස්...</td>\n",
       "      <td>කොළඹ සරසවියෙන් වෛද්‍ය විද්‍යා ප්‍රථම උපාධියත්,...</td>\n",
       "    </tr>\n",
       "    <tr>\n",
       "      <th>22</th>\n",
       "      <td>අද අත්අඩංගුවට ගත් සීනි තොගය, අධික මිලකට පාරිභෝ...</td>\n",
       "      <td>අද අත්අඩංගුවට ගත් සීනි තොගය, අධික මිලකට පාරිභෝ...</td>\n",
       "    </tr>\n",
       "    <tr>\n",
       "      <th>23</th>\n",
       "      <td>විල් සුදුමැලි වූයේය. ඔහු නිර්භීත අය අතර ද නිර්...</td>\n",
       "      <td>විල් සුදුමැලි වූයේය. ඔහු නිර්භීත අය අතර ද නිර්...</td>\n",
       "    </tr>\n",
       "    <tr>\n",
       "      <th>24</th>\n",
       "      <td>ශ්රී ලංකාවේ කණ්ඩායම් ගීත සංස්කෘතියේ ආරම්භකයා හ...</td>\n",
       "      <td>ශ්‍රී ලංකාවේ කණ්ඩායම් ගීත සංස්කෘතියේ ආරම්භකයා ...</td>\n",
       "    </tr>\n",
       "    <tr>\n",
       "      <th>25</th>\n",
       "      <td>රන්ජා උඹ වැරදි නැහැ මේ සිස්ටම් එක සම්පූර්නයෙන්...</td>\n",
       "      <td>රන්ජා උඹ වැරදි නැහැ මේ සිස්ටම් එක සම්පූර්නයෙන්...</td>\n",
       "    </tr>\n",
       "    <tr>\n",
       "      <th>26</th>\n",
       "      <td>\"හායි යාලුවෙනේ කොහොමද ඔයාලට...\" කියාගෙන ගොබ්බ ...</td>\n",
       "      <td>\"හායි යාලුවෙනේ කොහොමද ඔයාලට...\" කියාගෙන ගොබ්බ ...</td>\n",
       "    </tr>\n",
       "    <tr>\n",
       "      <th>27</th>\n",
       "      <td>සියලු අයදුම්කරුවන්ගේ සුදුසුකම් හා දැනුම් හොදින...</td>\n",
       "      <td>සියලු අයදුම්කරුවන්ගේ සුදුසුකම් හා දැනුම් හොදින...</td>\n",
       "    </tr>\n",
       "    <tr>\n",
       "      <th>28</th>\n",
       "      <td>රැග් කිරීම පිළිබඳ තවත් නීතියක් නම්, රැග් නොවූ ...</td>\n",
       "      <td>රැග් කිරීම පිළිබඳ තවත් නීතියක් නම්, රැග් නොවූ ...</td>\n",
       "    </tr>\n",
       "    <tr>\n",
       "      <th>29</th>\n",
       "      <td>දූෂණය මුලිණුපුටා දමා සියලූ දූෂිතයින්ට නීතිය ක්...</td>\n",
       "      <td>දූෂණය මුලිණුපුටා දමා සියලූ දූෂිතයින්ට නීතිය ක්...</td>\n",
       "    </tr>\n",
       "  </tbody>\n",
       "</table>\n",
       "</div>"
      ],
      "text/plain": [
       "                                            reference  \\\n",
       "0   ඔහු සතුව තිබී හෙරොයින් කිලෝග්රෑම් 1ක් සොයා ගත්...   \n",
       "1   මේ තරම් මහන්සි වෙලා, ලස්සන අත්දැකීමක් අපිටත් ල...   \n",
       "2   සාමාන්යයෙන් කාර් බැටරියකින් මාස දෙකක් පමණ රේඩි...   \n",
       "3   ජනාධිපති මහින්ද රාජපක්ෂට තම වසර 4 ක නිල කාලය ස...   \n",
       "4   කාර්යාලීය ඇඳුම්, හවස්වරුවේ සාද සඳහා ඇදුම්, ලින...   \n",
       "5   නිවනට යන්න තෘශ්ණාවක් ඕනේ ඒක කුසලමූල තන්හාව.. ඒ...   \n",
       "6   , 4 , , , , . 0772104663, 0112845449 කොට්ටාව ක...   \n",
       "7   බුදු සරණයි පුතේ.... ක්ෂුද්‍ර ජීවී විද්‍යාව පිල...   \n",
       "8   හරීන්ද්‍ර මම කැමැති චරිතයක්. ඔබට සැප හා ජය. සච...   \n",
       "9   මාධ්ය නිදහස නැ කියලා බෙරිහන් දෙන මහින්ද ප්රමුක...   \n",
       "10  (පින් කරපං මෙ කමෙන්ට් එක) අනේ හුත්තො ,ඉංගලන්තෙ...   \n",
       "11  යුක්රේන ජනාධිපති එරටින් පළා ගොස් ප්රහාරවලින් බ...   \n",
       "12  මේ අතර කොටහේනේ වෙඩි තැබීමේ සිද්ධියට සම්බන්ධ සැ...   \n",
       "13  අන්න ඒ වෙලාව වෙද්දි අපේ නැන්දම්මගෙ නෑයෙක්ට, නැ...   \n",
       "14  අපි ජෝඩු බලන්න බඹරැල්ල පහු කරලා ටික දුරක් ගිහි...   \n",
       "15  ඉරාක් යුද්ධයෙන් මියගිය බ්රිතාන්යය සොල්දාදුවන්ග...   \n",
       "16  ඔලුවලට ඇන ගසා දෙතිස් වද දී 60 දහසක් තරුණයන් මැ...   \n",
       "17  අප අසා ඇත්තේ දවස ආරම්භ කිරීමේදී උදෑසනම ජලය පාන...   \n",
       "18  පිළිතුර:- එතුමා කිව්වා වෙච්ච හොරකම්, ගනුදෙනු ග...   \n",
       "19  සෞඛ්යය – පපුව ආශ්රිත සෙම් රෝග බහුල වනවා ඇත. ස්...   \n",
       "20  එසේ තිබියදීත් ක්රීඩකයින් තමන්ගේ ජාතික වගකීම් ව...   \n",
       "21  කොළඹ සරසවියෙන් වෛද්ය විද්යා ප්රථම උපාධියත්, ස්...   \n",
       "22  අද අත්අඩංගුවට ගත් සීනි තොගය, අධික මිලකට පාරිභෝ...   \n",
       "23  විල් සුදුමැලි වූයේය. ඔහු නිර්භීත අය අතර ද නිර්...   \n",
       "24  ශ්රී ලංකාවේ කණ්ඩායම් ගීත සංස්කෘතියේ ආරම්භකයා හ...   \n",
       "25  රන්ජා උඹ වැරදි නැහැ මේ සිස්ටම් එක සම්පූර්නයෙන්...   \n",
       "26  \"හායි යාලුවෙනේ කොහොමද ඔයාලට...\" කියාගෙන ගොබ්බ ...   \n",
       "27  සියලු අයදුම්කරුවන්ගේ සුදුසුකම් හා දැනුම් හොදින...   \n",
       "28  රැග් කිරීම පිළිබඳ තවත් නීතියක් නම්, රැග් නොවූ ...   \n",
       "29  දූෂණය මුලිණුපුටා දමා සියලූ දූෂිතයින්ට නීතිය ක්...   \n",
       "\n",
       "                                            generated  \n",
       "0   ඔහු සතුව තිබී හෙරොයින් කිලෝග්‍රෑම් 1ක් සොයා ගත...  \n",
       "1   මේ තරම් මහන්සි වෙලා, ලස්සන අත්දැකීමක් අපිටත් ල...  \n",
       "2   සාමාන්‍යයෙන් කාර් බැටරියකින් මාස දෙකක් පමණ රේඩ...  \n",
       "3   ජනාධිපති මහින්ද රාජපක්ෂට තම වසර 4 ක නිල කාලය ස...  \n",
       "4   කාර්යාලීය ඇඳුම්, හවස්වරුවේ සාද සඳහා ඇදුම්, ලින...  \n",
       "5   නිවනට යන්න තෘශ්ණාවක් ඕනේ ඒක කුසලමූල තන්හාව.. ඒ...  \n",
       "6   , 4 , , , , 0772104663, 0112845449 කොට්ටාව කාම...  \n",
       "7   බුදු සරණයි පුතේ.... ක්ෂුද්‍ර ජීවී විද්‍යාව පිල...  \n",
       "8   හරීන්දු මම කැමැති චරිතයක්. ඔබට සැප හා ජය. සචින...  \n",
       "9   මාධ්‍ය නිදහස නැ කියලා බෙරිහන් දෙන මහින්ද ප්‍රම...  \n",
       "10  (පින් කරපං මෙ කමෙන්ට් එක) අනේ හුත්තො ,ඉංගලන්තෙ...  \n",
       "11  යුක්‍රේන ජනාධිපති එරටින් පළා ගොස් ප්‍රහාරවලින්...  \n",
       "12  මේ අතර කොටහේනේ වෙඩි තැබීමේ සිද්ධියට සම්බන්ධ සැ...  \n",
       "13  අන්න ඒ වෙලාව වෙද්දි අපේ නැන්දම්මගෙ නෑයෙක්ට, නැ...  \n",
       "14  අපි ජෝඩු බලන්න බඹරැල්ල පහු කරලා ටික දුරක් ගිහි...  \n",
       "15  ඉරාක් යුද්ධයෙන් මියගිය බ්‍රිතාන්‍යය සොල්දාදුවන...  \n",
       "16  ඔලුවලට ඇන ගසා දෙතිස් වද දී 60 දහසක් තරුණයන් මැ...  \n",
       "17  අප අසා ඇත්තේ දවස ආරම්භ කිරීමේදී උදෑසනම ජලය පාන...  \n",
       "18  පිළිතුර:- එතුමා කිව්වා වෙච්ච හොරකම්, ගනුදෙනු ග...  \n",
       "19  සෞඛ්‍යය – පපුව ආශ්‍රිත සෙම් රෝග බහුල වනවා ඇත. ...  \n",
       "20  එසේ තිබියදීන් ක්රීඩකයින් තමන්ගේ පිටින් නිදහස් ...  \n",
       "21  කොළඹ සරසවියෙන් වෛද්‍ය විද්‍යා ප්‍රථම උපාධියත්,...  \n",
       "22  අද අත්අඩංගුවට ගත් සීනි තොගය, අධික මිලකට පාරිභෝ...  \n",
       "23  විල් සුදුමැලි වූයේය. ඔහු නිර්භීත අය අතර ද නිර්...  \n",
       "24  ශ්‍රී ලංකාවේ කණ්ඩායම් ගීත සංස්කෘතියේ ආරම්භකයා ...  \n",
       "25  රන්ජා උඹ වැරදි නැහැ මේ සිස්ටම් එක සම්පූර්නයෙන්...  \n",
       "26  \"හායි යාලුවෙනේ කොහොමද ඔයාලට...\" කියාගෙන ගොබ්බ ...  \n",
       "27  සියලු අයදුම්කරුවන්ගේ සුදුසුකම් හා දැනුම් හොදින...  \n",
       "28  රැග් කිරීම පිළිබඳ තවත් නීතියක් නම්, රැග් නොවූ ...  \n",
       "29  දූෂණය මුලිණුපුටා දමා සියලූ දූෂිතයින්ට නීතිය ක්...  "
      ]
     },
     "execution_count": 4,
     "metadata": {},
     "output_type": "execute_result"
    }
   ],
   "source": [
    "df.head(30)"
   ]
  },
  {
   "cell_type": "code",
   "execution_count": 5,
   "metadata": {},
   "outputs": [],
   "source": [
    "def remove_non_sinhala(text):\n",
    "     if isinstance(text, str):\n",
    "        return ''.join(char for char in text if re.match(r'[\\u0D80-\\u0DFF\\s]', char))\n",
    "     else:\n",
    "        return ''  # or some other appropriate default value"
   ]
  },
  {
   "cell_type": "code",
   "execution_count": 6,
   "metadata": {},
   "outputs": [],
   "source": [
    "df['reference'] = df['reference'].apply(remove_non_sinhala)\n",
    "df['generated'] = df['generated'].apply(remove_non_sinhala)"
   ]
  },
  {
   "cell_type": "code",
   "execution_count": 7,
   "metadata": {},
   "outputs": [
    {
     "data": {
      "text/html": [
       "<div>\n",
       "<style scoped>\n",
       "    .dataframe tbody tr th:only-of-type {\n",
       "        vertical-align: middle;\n",
       "    }\n",
       "\n",
       "    .dataframe tbody tr th {\n",
       "        vertical-align: top;\n",
       "    }\n",
       "\n",
       "    .dataframe thead th {\n",
       "        text-align: right;\n",
       "    }\n",
       "</style>\n",
       "<table border=\"1\" class=\"dataframe\">\n",
       "  <thead>\n",
       "    <tr style=\"text-align: right;\">\n",
       "      <th></th>\n",
       "      <th>reference</th>\n",
       "      <th>generated</th>\n",
       "    </tr>\n",
       "  </thead>\n",
       "  <tbody>\n",
       "    <tr>\n",
       "      <th>0</th>\n",
       "      <td>ඔහු සතුව තිබී හෙරොයින් කිලෝග්රෑම් ක් සොයා ගත් ...</td>\n",
       "      <td>ඔහු සතුව තිබී හෙරොයින් කිලෝග්රෑම් ක් සොයා ගත් ...</td>\n",
       "    </tr>\n",
       "    <tr>\n",
       "      <th>1</th>\n",
       "      <td>මේ තරම් මහන්සි වෙලා ලස්සන අත්දැකීමක් අපිටත් ලග...</td>\n",
       "      <td>මේ තරම් මහන්සි වෙලා ලස්සන අත්දැකීමක් අපිටත් ලග...</td>\n",
       "    </tr>\n",
       "    <tr>\n",
       "      <th>2</th>\n",
       "      <td>සාමාන්යයෙන් කාර් බැටරියකින් මාස දෙකක් පමණ රේඩි...</td>\n",
       "      <td>සාමාන්යයෙන් කාර් බැටරියකින් මාස දෙකක් පමණ රේඩි...</td>\n",
       "    </tr>\n",
       "    <tr>\n",
       "      <th>3</th>\n",
       "      <td>ජනාධිපති මහින්ද රාජපක්ෂට තම වසර  ක නිල කාලය සම...</td>\n",
       "      <td>ජනාධිපති මහින්ද රාජපක්ෂට තම වසර  ක නිල කාලය සම...</td>\n",
       "    </tr>\n",
       "    <tr>\n",
       "      <th>4</th>\n",
       "      <td>කාර්යාලීය ඇඳුම් හවස්වරුවේ සාද සඳහා ඇදුම් ලිනන්...</td>\n",
       "      <td>කාර්යාලීය ඇඳුම් හවස්වරුවේ සාද සඳහා ඇදුම් ලිනන්...</td>\n",
       "    </tr>\n",
       "    <tr>\n",
       "      <th>5</th>\n",
       "      <td>නිවනට යන්න තෘශ්ණාවක් ඕනේ ඒක කුසලමූල තන්හාව ඒක ...</td>\n",
       "      <td>නිවනට යන්න තෘශ්ණාවක් ඕනේ ඒක කුසලමූල තන්හාව ඒක ...</td>\n",
       "    </tr>\n",
       "    <tr>\n",
       "      <th>6</th>\n",
       "      <td>කොට්ටාව කාමර ක වඅ කට වැඩි ටයිල් කළ සියලූ</td>\n",
       "      <td>කොට්ටාව කාමර ක වඅ කට වැඩි ටයිල් කළ සියලු</td>\n",
       "    </tr>\n",
       "    <tr>\n",
       "      <th>7</th>\n",
       "      <td>බුදු සරණයි පුතේ ක්ෂුද්ර ජීවී විද්යාව පිලිබදව ප...</td>\n",
       "      <td>බුදු සරණයි පුතේ ක්ෂුද්ර ජීවී විද්යාව පිලිබදව ප...</td>\n",
       "    </tr>\n",
       "    <tr>\n",
       "      <th>8</th>\n",
       "      <td>හරීන්ද්ර මම කැමැති චරිතයක් ඔබට සැප හා ජය සචිනි...</td>\n",
       "      <td>හරීන්දු මම කැමැති චරිතයක් ඔබට සැප හා ජය සචිනි ...</td>\n",
       "    </tr>\n",
       "    <tr>\n",
       "      <th>9</th>\n",
       "      <td>මාධ්ය නිදහස නැ කියලා බෙරිහන් දෙන මහින්ද ප්රමුක...</td>\n",
       "      <td>මාධ්ය නිදහස නැ කියලා බෙරිහන් දෙන මහින්ද ප්රමුක...</td>\n",
       "    </tr>\n",
       "    <tr>\n",
       "      <th>10</th>\n",
       "      <td>පින් කරපං මෙ කමෙන්ට් එක අනේ හුත්තො ඉංගලන්තෙ රැ...</td>\n",
       "      <td>පින් කරපං මෙ කමෙන්ට් එක අනේ හුත්තො ඉංගලන්තෙ රැ...</td>\n",
       "    </tr>\n",
       "    <tr>\n",
       "      <th>11</th>\n",
       "      <td>යුක්රේන ජනාධිපති එරටින් පළා ගොස් ප්රහාරවලින් බ...</td>\n",
       "      <td>යුක්රේන ජනාධිපති එරටින් පළා ගොස් ප්රහාරවලින් බ...</td>\n",
       "    </tr>\n",
       "    <tr>\n",
       "      <th>12</th>\n",
       "      <td>මේ අතර කොටහේනේ වෙඩි තැබීමේ සිද්ධියට සම්බන්ධ සැ...</td>\n",
       "      <td>මේ අතර කොටහේනේ වෙඩි තැබීමේ සිද්ධියට සම්බන්ධ සැ...</td>\n",
       "    </tr>\n",
       "    <tr>\n",
       "      <th>13</th>\n",
       "      <td>අන්න ඒ වෙලාව වෙද්දි අපේ නැන්දම්මගෙ නෑයෙක්ට නැත...</td>\n",
       "      <td>අන්න ඒ වෙලාව වෙද්දි අපේ නැන්දම්මගෙ නෑයෙක්ට නැත...</td>\n",
       "    </tr>\n",
       "    <tr>\n",
       "      <th>14</th>\n",
       "      <td>අපි ජෝඩු බලන්න බඹරැල්ල පහු කරලා ටික දුරක් ගිහි...</td>\n",
       "      <td>අපි ජෝඩු බලන්න බඹරැල්ල පහු කරලා ටික දුරක් ගිහි...</td>\n",
       "    </tr>\n",
       "    <tr>\n",
       "      <th>15</th>\n",
       "      <td>ඉරාක් යුද්ධයෙන් මියගිය බ්රිතාන්යය සොල්දාදුවන්ග...</td>\n",
       "      <td>ඉරාක් යුද්ධයෙන් මියගිය බ්රිතාන්යය සොල්දාදුවන්ග...</td>\n",
       "    </tr>\n",
       "    <tr>\n",
       "      <th>16</th>\n",
       "      <td>ඔලුවලට ඇන ගසා දෙතිස් වද දී  දහසක් තරුණයන් මැරූ...</td>\n",
       "      <td>ඔලුවලට ඇන ගසා දෙතිස් වද දී  දහසක් තරුණයන් මැරූ...</td>\n",
       "    </tr>\n",
       "    <tr>\n",
       "      <th>17</th>\n",
       "      <td>අප අසා ඇත්තේ දවස ආරම්භ කිරීමේදී උදෑසනම ජලය පාන...</td>\n",
       "      <td>අප අසා ඇත්තේ දවස ආරම්භ කිරීමේදී උදෑසනම ජලය පාන...</td>\n",
       "    </tr>\n",
       "    <tr>\n",
       "      <th>18</th>\n",
       "      <td>පිළිතුර එතුමා කිව්වා වෙච්ච හොරකම් ගනුදෙනු ගැන ...</td>\n",
       "      <td>පිළිතුර එතුමා කිව්වා වෙච්ච හොරකම් ගනුදෙනු ගැන ...</td>\n",
       "    </tr>\n",
       "    <tr>\n",
       "      <th>19</th>\n",
       "      <td>සෞඛ්යය  පපුව ආශ්රිත සෙම් රෝග බහුල වනවා ඇත ස්ත්...</td>\n",
       "      <td>සෞඛ්යය  පපුව ආශ්රිත සෙම් රෝග බහුල වනවා ඇත ස්ත්...</td>\n",
       "    </tr>\n",
       "    <tr>\n",
       "      <th>20</th>\n",
       "      <td>එසේ තිබියදීත් ක්රීඩකයින් තමන්ගේ ජාතික වගකීම් ව...</td>\n",
       "      <td>එසේ තිබියදීන් ක්රීඩකයින් තමන්ගේ පිටින් නිදහස් ...</td>\n",
       "    </tr>\n",
       "    <tr>\n",
       "      <th>21</th>\n",
       "      <td>කොළඹ සරසවියෙන් වෛද්ය විද්යා ප්රථම උපාධියත් ස්ක...</td>\n",
       "      <td>කොළඹ සරසවියෙන් වෛද්ය විද්යා ප්රථම උපාධියත් ස්ක...</td>\n",
       "    </tr>\n",
       "    <tr>\n",
       "      <th>22</th>\n",
       "      <td>අද අත්අඩංගුවට ගත් සීනි තොගය අධික මිලකට පාරිභෝග...</td>\n",
       "      <td>අද අත්අඩංගුවට ගත් සීනි තොගය අධික මිලකට පාරිභෝග...</td>\n",
       "    </tr>\n",
       "    <tr>\n",
       "      <th>23</th>\n",
       "      <td>විල් සුදුමැලි වූයේය ඔහු නිර්භීත අය අතර ද නිර්භ...</td>\n",
       "      <td>විල් සුදුමැලි වූයේය ඔහු නිර්භීත අය අතර ද නිර්භ...</td>\n",
       "    </tr>\n",
       "    <tr>\n",
       "      <th>24</th>\n",
       "      <td>ශ්රී ලංකාවේ කණ්ඩායම් ගීත සංස්කෘතියේ ආරම්භකයා හ...</td>\n",
       "      <td>ශ්රී ලංකාවේ කණ්ඩායම් ගීත සංස්කෘතියේ ආරම්භකයා හ...</td>\n",
       "    </tr>\n",
       "    <tr>\n",
       "      <th>25</th>\n",
       "      <td>රන්ජා උඹ වැරදි නැහැ මේ සිස්ටම් එක සම්පූර්නයෙන්...</td>\n",
       "      <td>රන්ජා උඹ වැරදි නැහැ මේ සිස්ටම් එක සම්පූර්නයෙන්...</td>\n",
       "    </tr>\n",
       "    <tr>\n",
       "      <th>26</th>\n",
       "      <td>හායි යාලුවෙනේ කොහොමද ඔයාලට කියාගෙන ගොබ්බ විදිහ...</td>\n",
       "      <td>හායි යාලුවෙනේ කොහොමද ඔයාලට කියාගෙන ගොබ්බ විදිහ...</td>\n",
       "    </tr>\n",
       "    <tr>\n",
       "      <th>27</th>\n",
       "      <td>සියලු අයදුම්කරුවන්ගේ සුදුසුකම් හා දැනුම් හොදින...</td>\n",
       "      <td>සියලු අයදුම්කරුවන්ගේ සුදුසුකම් හා දැනුම් හොදින...</td>\n",
       "    </tr>\n",
       "    <tr>\n",
       "      <th>28</th>\n",
       "      <td>රැග් කිරීම පිළිබඳ තවත් නීතියක් නම් රැග් නොවූ අ...</td>\n",
       "      <td>රැග් කිරීම පිළිබඳ තවත් නීතියක් නම් රැග් නොවූ අ...</td>\n",
       "    </tr>\n",
       "    <tr>\n",
       "      <th>29</th>\n",
       "      <td>දූෂණය මුලිණුපුටා දමා සියලූ දූෂිතයින්ට නීතිය ක්...</td>\n",
       "      <td>දූෂණය මුලිණුපුටා දමා සියලූ දූෂිතයින්ට නීතිය ක්...</td>\n",
       "    </tr>\n",
       "  </tbody>\n",
       "</table>\n",
       "</div>"
      ],
      "text/plain": [
       "                                            reference  \\\n",
       "0   ඔහු සතුව තිබී හෙරොයින් කිලෝග්රෑම් ක් සොයා ගත් ...   \n",
       "1   මේ තරම් මහන්සි වෙලා ලස්සන අත්දැකීමක් අපිටත් ලග...   \n",
       "2   සාමාන්යයෙන් කාර් බැටරියකින් මාස දෙකක් පමණ රේඩි...   \n",
       "3   ජනාධිපති මහින්ද රාජපක්ෂට තම වසර  ක නිල කාලය සම...   \n",
       "4   කාර්යාලීය ඇඳුම් හවස්වරුවේ සාද සඳහා ඇදුම් ලිනන්...   \n",
       "5   නිවනට යන්න තෘශ්ණාවක් ඕනේ ඒක කුසලමූල තන්හාව ඒක ...   \n",
       "6            කොට්ටාව කාමර ක වඅ කට වැඩි ටයිල් කළ සියලූ   \n",
       "7   බුදු සරණයි පුතේ ක්ෂුද්ර ජීවී විද්යාව පිලිබදව ප...   \n",
       "8   හරීන්ද්ර මම කැමැති චරිතයක් ඔබට සැප හා ජය සචිනි...   \n",
       "9   මාධ්ය නිදහස නැ කියලා බෙරිහන් දෙන මහින්ද ප්රමුක...   \n",
       "10  පින් කරපං මෙ කමෙන්ට් එක අනේ හුත්තො ඉංගලන්තෙ රැ...   \n",
       "11  යුක්රේන ජනාධිපති එරටින් පළා ගොස් ප්රහාරවලින් බ...   \n",
       "12  මේ අතර කොටහේනේ වෙඩි තැබීමේ සිද්ධියට සම්බන්ධ සැ...   \n",
       "13  අන්න ඒ වෙලාව වෙද්දි අපේ නැන්දම්මගෙ නෑයෙක්ට නැත...   \n",
       "14  අපි ජෝඩු බලන්න බඹරැල්ල පහු කරලා ටික දුරක් ගිහි...   \n",
       "15  ඉරාක් යුද්ධයෙන් මියගිය බ්රිතාන්යය සොල්දාදුවන්ග...   \n",
       "16  ඔලුවලට ඇන ගසා දෙතිස් වද දී  දහසක් තරුණයන් මැරූ...   \n",
       "17  අප අසා ඇත්තේ දවස ආරම්භ කිරීමේදී උදෑසනම ජලය පාන...   \n",
       "18  පිළිතුර එතුමා කිව්වා වෙච්ච හොරකම් ගනුදෙනු ගැන ...   \n",
       "19  සෞඛ්යය  පපුව ආශ්රිත සෙම් රෝග බහුල වනවා ඇත ස්ත්...   \n",
       "20  එසේ තිබියදීත් ක්රීඩකයින් තමන්ගේ ජාතික වගකීම් ව...   \n",
       "21  කොළඹ සරසවියෙන් වෛද්ය විද්යා ප්රථම උපාධියත් ස්ක...   \n",
       "22  අද අත්අඩංගුවට ගත් සීනි තොගය අධික මිලකට පාරිභෝග...   \n",
       "23  විල් සුදුමැලි වූයේය ඔහු නිර්භීත අය අතර ද නිර්භ...   \n",
       "24  ශ්රී ලංකාවේ කණ්ඩායම් ගීත සංස්කෘතියේ ආරම්භකයා හ...   \n",
       "25  රන්ජා උඹ වැරදි නැහැ මේ සිස්ටම් එක සම්පූර්නයෙන්...   \n",
       "26  හායි යාලුවෙනේ කොහොමද ඔයාලට කියාගෙන ගොබ්බ විදිහ...   \n",
       "27  සියලු අයදුම්කරුවන්ගේ සුදුසුකම් හා දැනුම් හොදින...   \n",
       "28  රැග් කිරීම පිළිබඳ තවත් නීතියක් නම් රැග් නොවූ අ...   \n",
       "29  දූෂණය මුලිණුපුටා දමා සියලූ දූෂිතයින්ට නීතිය ක්...   \n",
       "\n",
       "                                            generated  \n",
       "0   ඔහු සතුව තිබී හෙරොයින් කිලෝග්රෑම් ක් සොයා ගත් ...  \n",
       "1   මේ තරම් මහන්සි වෙලා ලස්සන අත්දැකීමක් අපිටත් ලග...  \n",
       "2   සාමාන්යයෙන් කාර් බැටරියකින් මාස දෙකක් පමණ රේඩි...  \n",
       "3   ජනාධිපති මහින්ද රාජපක්ෂට තම වසර  ක නිල කාලය සම...  \n",
       "4   කාර්යාලීය ඇඳුම් හවස්වරුවේ සාද සඳහා ඇදුම් ලිනන්...  \n",
       "5   නිවනට යන්න තෘශ්ණාවක් ඕනේ ඒක කුසලමූල තන්හාව ඒක ...  \n",
       "6            කොට්ටාව කාමර ක වඅ කට වැඩි ටයිල් කළ සියලු  \n",
       "7   බුදු සරණයි පුතේ ක්ෂුද්ර ජීවී විද්යාව පිලිබදව ප...  \n",
       "8   හරීන්දු මම කැමැති චරිතයක් ඔබට සැප හා ජය සචිනි ...  \n",
       "9   මාධ්ය නිදහස නැ කියලා බෙරිහන් දෙන මහින්ද ප්රමුක...  \n",
       "10  පින් කරපං මෙ කමෙන්ට් එක අනේ හුත්තො ඉංගලන්තෙ රැ...  \n",
       "11  යුක්රේන ජනාධිපති එරටින් පළා ගොස් ප්රහාරවලින් බ...  \n",
       "12  මේ අතර කොටහේනේ වෙඩි තැබීමේ සිද්ධියට සම්බන්ධ සැ...  \n",
       "13  අන්න ඒ වෙලාව වෙද්දි අපේ නැන්දම්මගෙ නෑයෙක්ට නැත...  \n",
       "14  අපි ජෝඩු බලන්න බඹරැල්ල පහු කරලා ටික දුරක් ගිහි...  \n",
       "15  ඉරාක් යුද්ධයෙන් මියගිය බ්රිතාන්යය සොල්දාදුවන්ග...  \n",
       "16  ඔලුවලට ඇන ගසා දෙතිස් වද දී  දහසක් තරුණයන් මැරූ...  \n",
       "17  අප අසා ඇත්තේ දවස ආරම්භ කිරීමේදී උදෑසනම ජලය පාන...  \n",
       "18  පිළිතුර එතුමා කිව්වා වෙච්ච හොරකම් ගනුදෙනු ගැන ...  \n",
       "19  සෞඛ්යය  පපුව ආශ්රිත සෙම් රෝග බහුල වනවා ඇත ස්ත්...  \n",
       "20  එසේ තිබියදීන් ක්රීඩකයින් තමන්ගේ පිටින් නිදහස් ...  \n",
       "21  කොළඹ සරසවියෙන් වෛද්ය විද්යා ප්රථම උපාධියත් ස්ක...  \n",
       "22  අද අත්අඩංගුවට ගත් සීනි තොගය අධික මිලකට පාරිභෝග...  \n",
       "23  විල් සුදුමැලි වූයේය ඔහු නිර්භීත අය අතර ද නිර්භ...  \n",
       "24  ශ්රී ලංකාවේ කණ්ඩායම් ගීත සංස්කෘතියේ ආරම්භකයා හ...  \n",
       "25  රන්ජා උඹ වැරදි නැහැ මේ සිස්ටම් එක සම්පූර්නයෙන්...  \n",
       "26  හායි යාලුවෙනේ කොහොමද ඔයාලට කියාගෙන ගොබ්බ විදිහ...  \n",
       "27  සියලු අයදුම්කරුවන්ගේ සුදුසුකම් හා දැනුම් හොදින...  \n",
       "28  රැග් කිරීම පිළිබඳ තවත් නීතියක් නම් රැග් නොවූ අ...  \n",
       "29  දූෂණය මුලිණුපුටා දමා සියලූ දූෂිතයින්ට නීතිය ක්...  "
      ]
     },
     "execution_count": 7,
     "metadata": {},
     "output_type": "execute_result"
    }
   ],
   "source": [
    "df.head(30)"
   ]
  },
  {
   "cell_type": "code",
   "execution_count": 8,
   "metadata": {},
   "outputs": [],
   "source": [
    "empty_space_df_stripped = df[(df['reference'].str.strip() == '') & (df['generated'].str.strip() == '')]"
   ]
  },
  {
   "cell_type": "code",
   "execution_count": 9,
   "metadata": {},
   "outputs": [
    {
     "data": {
      "text/html": [
       "<div>\n",
       "<style scoped>\n",
       "    .dataframe tbody tr th:only-of-type {\n",
       "        vertical-align: middle;\n",
       "    }\n",
       "\n",
       "    .dataframe tbody tr th {\n",
       "        vertical-align: top;\n",
       "    }\n",
       "\n",
       "    .dataframe thead th {\n",
       "        text-align: right;\n",
       "    }\n",
       "</style>\n",
       "<table border=\"1\" class=\"dataframe\">\n",
       "  <thead>\n",
       "    <tr style=\"text-align: right;\">\n",
       "      <th></th>\n",
       "      <th>reference</th>\n",
       "      <th>generated</th>\n",
       "    </tr>\n",
       "  </thead>\n",
       "  <tbody>\n",
       "    <tr>\n",
       "      <th>1918</th>\n",
       "      <td></td>\n",
       "      <td></td>\n",
       "    </tr>\n",
       "    <tr>\n",
       "      <th>2193</th>\n",
       "      <td></td>\n",
       "      <td></td>\n",
       "    </tr>\n",
       "    <tr>\n",
       "      <th>2929</th>\n",
       "      <td></td>\n",
       "      <td></td>\n",
       "    </tr>\n",
       "    <tr>\n",
       "      <th>4585</th>\n",
       "      <td></td>\n",
       "      <td></td>\n",
       "    </tr>\n",
       "  </tbody>\n",
       "</table>\n",
       "</div>"
      ],
      "text/plain": [
       "     reference generated\n",
       "1918                    \n",
       "2193                    \n",
       "2929                    \n",
       "4585                    "
      ]
     },
     "execution_count": 9,
     "metadata": {},
     "output_type": "execute_result"
    }
   ],
   "source": [
    "empty_space_df_stripped"
   ]
  },
  {
   "cell_type": "code",
   "execution_count": 10,
   "metadata": {},
   "outputs": [],
   "source": [
    "indices_to_remove = df[(df['reference'].str.strip() == '') & (df['generated'].str.strip() == '')].index"
   ]
  },
  {
   "cell_type": "code",
   "execution_count": 11,
   "metadata": {},
   "outputs": [],
   "source": [
    "df = df.drop(indices_to_remove)"
   ]
  },
  {
   "cell_type": "code",
   "execution_count": 12,
   "metadata": {},
   "outputs": [],
   "source": [
    "df = df.reset_index(drop=True)"
   ]
  },
  {
   "cell_type": "code",
   "execution_count": 13,
   "metadata": {},
   "outputs": [
    {
     "name": "stdout",
     "output_type": "stream",
     "text": [
      "After applying the transformation, each reference should be a non-empty list of strings, with each string being a single word.\n",
      "reference              \n",
      "generated          වටවට\n",
      "Name: 860, dtype: object\n",
      "860\n",
      "After applying the transformation, each reference should be a non-empty list of strings, with each string being a single word.\n",
      "reference                                                     \n",
      "generated    රිවිධිය විවිධිවිධියි විවිධිවිධිය විසිටි විවිධි...\n",
      "Name: 1146, dtype: object\n",
      "1146\n"
     ]
    }
   ],
   "source": [
    "agg_error_wer = 0\n",
    "agg_error_cer = 0\n",
    "count = 0\n",
    "for i in range(len(df)):\n",
    "    record = df.iloc[i]\n",
    "    try:\n",
    "        error_wer = wer(record['reference'], record['generated'])\n",
    "        error_cer = cer(record['reference'], record['generated'])\n",
    "    except Exception as e:\n",
    "        print(e)\n",
    "        print(record)\n",
    "        print(i)\n",
    "        continue\n",
    "    count += 1\n",
    "    agg_error_wer += error_wer\n",
    "    agg_error_cer += error_cer"
   ]
  },
  {
   "cell_type": "code",
   "execution_count": 14,
   "metadata": {},
   "outputs": [
    {
     "name": "stdout",
     "output_type": "stream",
     "text": [
      "Word Error Rate (WER): 0.026107208479741354\n"
     ]
    }
   ],
   "source": [
    "print(f\"Word Error Rate (WER): {agg_error_wer/ count}\")"
   ]
  },
  {
   "cell_type": "code",
   "execution_count": 15,
   "metadata": {},
   "outputs": [
    {
     "name": "stdout",
     "output_type": "stream",
     "text": [
      "Character Error Rate (CER): 0.007622142640648638\n"
     ]
    }
   ],
   "source": [
    "print(f\"Character Error Rate (CER): {agg_error_cer/ count}\")"
   ]
  },
  {
   "cell_type": "code",
   "execution_count": 16,
   "metadata": {},
   "outputs": [],
   "source": [
    "# pip install evaluate"
   ]
  },
  {
   "cell_type": "code",
   "execution_count": 17,
   "metadata": {},
   "outputs": [],
   "source": [
    "# pip install nltk"
   ]
  },
  {
   "cell_type": "code",
   "execution_count": 18,
   "metadata": {},
   "outputs": [
    {
     "name": "stderr",
     "output_type": "stream",
     "text": [
      "[nltk_data] Downloading package wordnet to\n",
      "[nltk_data]     /Users/nevidujayatilleke/nltk_data...\n",
      "[nltk_data]   Package wordnet is already up-to-date!\n",
      "[nltk_data] Downloading package punkt to\n",
      "[nltk_data]     /Users/nevidujayatilleke/nltk_data...\n",
      "[nltk_data]   Package punkt is already up-to-date!\n"
     ]
    },
    {
     "data": {
      "text/plain": [
       "True"
      ]
     },
     "execution_count": 18,
     "metadata": {},
     "output_type": "execute_result"
    }
   ],
   "source": [
    "import nltk\n",
    "import ssl\n",
    "\n",
    "try:\n",
    "    _create_unverified_https_context = ssl._create_unverified_context\n",
    "except AttributeError:\n",
    "    pass\n",
    "else:\n",
    "    ssl._create_default_https_context = _create_unverified_https_context\n",
    "\n",
    "nltk.download('wordnet')\n",
    "nltk.download('punkt')"
   ]
  },
  {
   "cell_type": "code",
   "execution_count": 19,
   "metadata": {},
   "outputs": [],
   "source": [
    "from nltk.translate.meteor_score import meteor_score"
   ]
  },
  {
   "cell_type": "code",
   "execution_count": 20,
   "metadata": {},
   "outputs": [],
   "source": [
    "from nltk.translate.meteor_score import meteor_score\n",
    "\n",
    "agg_meteor = 0\n",
    "count = 0\n",
    "for i in range(len(df)):\n",
    "    record = df.iloc[i]\n",
    "    try:\n",
    "        reference_text = record['reference']\n",
    "        generated_text = record['generated']\n",
    "        reference_tokens = reference_text.split()\n",
    "        generated_tokens = generated_text.split()\n",
    "        # print(f\"Index: {i}\")\n",
    "        # print(\"Reference Text:\", reference_text)\n",
    "        # print(\"Generated Text:\", generated_text)\n",
    "        # print(\"Reference Tokens:\", reference_tokens)\n",
    "        # print(\"Generated Tokens:\", generated_tokens)\n",
    "        # print(\"Type of meteor_score:\", type(meteor_score))  # Check the type of the function\n",
    "        current_meteor_score = meteor_score([reference_tokens], generated_tokens)\n",
    "        # print(\"Meteor Score:\", current_meteor_score)\n",
    "    except Exception as e:\n",
    "        print(f\"Error: {e}\")\n",
    "        print(\"Problematic Record:\", record)\n",
    "        print(\"Index:\", i)\n",
    "        continue\n",
    "    count += 1\n",
    "    agg_meteor += current_meteor_score"
   ]
  },
  {
   "cell_type": "code",
   "execution_count": 21,
   "metadata": {},
   "outputs": [
    {
     "name": "stdout",
     "output_type": "stream",
     "text": [
      "\n",
      "Average METEOR score: 0.9722731801890155\n"
     ]
    }
   ],
   "source": [
    "if count > 0:\n",
    "    average_meteor = agg_meteor / count\n",
    "    print(f\"\\nAverage METEOR score: {average_meteor}\")\n",
    "else:\n",
    "    print(\"\\nNo valid scores were calculated.\")"
   ]
  },
  {
   "cell_type": "code",
   "execution_count": 22,
   "metadata": {},
   "outputs": [
    {
     "name": "stdout",
     "output_type": "stream",
     "text": [
      "Requirement already satisfied: Levenshtein in /Users/nevidujayatilleke/Documents/MSC - Research/OCR Comparative Analysis/.venv/lib/python3.12/site-packages (0.27.1)\n",
      "Requirement already satisfied: rapidfuzz<4.0.0,>=3.9.0 in /Users/nevidujayatilleke/Documents/MSC - Research/OCR Comparative Analysis/.venv/lib/python3.12/site-packages (from Levenshtein) (3.13.0)\n",
      "Note: you may need to restart the kernel to use updated packages.\n"
     ]
    }
   ],
   "source": [
    "pip install Levenshtein"
   ]
  },
  {
   "cell_type": "code",
   "execution_count": 23,
   "metadata": {},
   "outputs": [],
   "source": [
    "from Levenshtein import distance as levenshtein_distance  # You might need to install this: pip install python-Levenshtein"
   ]
  },
  {
   "cell_type": "code",
   "execution_count": 24,
   "metadata": {},
   "outputs": [],
   "source": [
    "def normalized_levenshtein_similarity(s1, s2):\n",
    "    \"\"\"Calculates the Normalized Levenshtein Similarity between two strings.\"\"\"\n",
    "    if not s1 and not s2:\n",
    "        return 1.0\n",
    "    elif not s1 or not s2:\n",
    "        return 0.0\n",
    "    distance = levenshtein_distance(s1, s2)\n",
    "    max_len = max(len(s1), len(s2))\n",
    "    similarity = 1 - (distance / max_len)\n",
    "    return similarity"
   ]
  },
  {
   "cell_type": "code",
   "execution_count": 25,
   "metadata": {},
   "outputs": [],
   "source": [
    "agg_anls = 0\n",
    "count = 0\n",
    "for i in range(len(df)):\n",
    "    record = df.iloc[i]\n",
    "    reference_text = record['reference']\n",
    "    generated_text = record['generated']\n",
    "\n",
    "    # if pd.isna(reference_text) or not reference_text or pd.isna(generated_text) or not generated_text:\n",
    "    #     print(f\"Skipping record at index {i} for ANLS due to missing or empty reference/generated text:\")\n",
    "    #     print(\"Reference:\", reference_text)\n",
    "    #     print(\"Generated:\", generated_text)\n",
    "    #     continue\n",
    "\n",
    "    try:\n",
    "        similarity = normalized_levenshtein_similarity(reference_text, generated_text)\n",
    "        # print(f\"Index: {i}\")\n",
    "        # print(\"Reference:\", reference_text)\n",
    "        # print(\"Generated:\", generated_text)\n",
    "        # print(\"Normalized Levenshtein Similarity:\", similarity)\n",
    "        agg_anls += similarity\n",
    "        count += 1\n",
    "    except Exception as e:\n",
    "        print(f\"Error calculating ANLS at index {i}: {e}\")\n",
    "        print(\"Problematic Record:\", record)\n",
    "        continue"
   ]
  },
  {
   "cell_type": "code",
   "execution_count": 26,
   "metadata": {},
   "outputs": [
    {
     "name": "stdout",
     "output_type": "stream",
     "text": [
      "\n",
      "Average Normalized Levenshtein Similarity (ANLS): 0.9920060549418427\n"
     ]
    }
   ],
   "source": [
    "if count > 0:\n",
    "    average_anls = agg_anls / count\n",
    "    print(f\"\\nAverage Normalized Levenshtein Similarity (ANLS): {average_anls}\")\n",
    "else:\n",
    "    print(\"\\nNo valid ANLS scores were calculated.\")"
   ]
  },
  {
   "cell_type": "code",
   "execution_count": 27,
   "metadata": {},
   "outputs": [],
   "source": [
    "from nltk.translate.bleu_score import sentence_bleu"
   ]
  },
  {
   "cell_type": "code",
   "execution_count": 28,
   "metadata": {},
   "outputs": [
    {
     "name": "stderr",
     "output_type": "stream",
     "text": [
      "/Users/nevidujayatilleke/Documents/MSC - Research/OCR Comparative Analysis/.venv/lib/python3.12/site-packages/nltk/translate/bleu_score.py:577: UserWarning: \n",
      "The hypothesis contains 0 counts of 3-gram overlaps.\n",
      "Therefore the BLEU score evaluates to 0, independently of\n",
      "how many N-gram overlaps of lower order it contains.\n",
      "Consider using lower n-gram order or use SmoothingFunction()\n",
      "  warnings.warn(_msg)\n",
      "/Users/nevidujayatilleke/Documents/MSC - Research/OCR Comparative Analysis/.venv/lib/python3.12/site-packages/nltk/translate/bleu_score.py:577: UserWarning: \n",
      "The hypothesis contains 0 counts of 4-gram overlaps.\n",
      "Therefore the BLEU score evaluates to 0, independently of\n",
      "how many N-gram overlaps of lower order it contains.\n",
      "Consider using lower n-gram order or use SmoothingFunction()\n",
      "  warnings.warn(_msg)\n",
      "/Users/nevidujayatilleke/Documents/MSC - Research/OCR Comparative Analysis/.venv/lib/python3.12/site-packages/nltk/translate/bleu_score.py:577: UserWarning: \n",
      "The hypothesis contains 0 counts of 2-gram overlaps.\n",
      "Therefore the BLEU score evaluates to 0, independently of\n",
      "how many N-gram overlaps of lower order it contains.\n",
      "Consider using lower n-gram order or use SmoothingFunction()\n",
      "  warnings.warn(_msg)\n"
     ]
    }
   ],
   "source": [
    "total_bleu_score = 0\n",
    "valid_count = 0\n",
    "\n",
    "for i in range(len(df)):\n",
    "    record = df.iloc[i]\n",
    "    reference_text = record['reference']\n",
    "    generated_text = record['generated']\n",
    "\n",
    "    if pd.isna(reference_text) or not reference_text or pd.isna(generated_text) or not generated_text:\n",
    "        continue  # Skip rows with missing/empty values\n",
    "\n",
    "    try:\n",
    "        reference_tokens = [reference_text.split()]\n",
    "        generated_tokens = generated_text.split()\n",
    "        # Default BLEU score (BLEU-4 with equal weights)\n",
    "        sentence_bleu_score = sentence_bleu(reference_tokens, generated_tokens)\n",
    "        total_bleu_score += sentence_bleu_score\n",
    "        valid_count += 1\n",
    "    except Exception as e:\n",
    "        print(f\"Error calculating BLEU at index {i}: {e}\")\n",
    "        continue"
   ]
  },
  {
   "cell_type": "code",
   "execution_count": 29,
   "metadata": {},
   "outputs": [
    {
     "name": "stdout",
     "output_type": "stream",
     "text": [
      "Average BLEU Score: 0.9396273115470627\n"
     ]
    }
   ],
   "source": [
    "if valid_count > 0:\n",
    "    average_bleu = total_bleu_score / valid_count\n",
    "    print(f\"Average BLEU Score: {average_bleu}\")\n",
    "else:\n",
    "    print(\"No valid data to calculate the average BLEU score.\")"
   ]
  }
 ],
 "metadata": {
  "kernelspec": {
   "display_name": ".venv",
   "language": "python",
   "name": "python3"
  },
  "language_info": {
   "codemirror_mode": {
    "name": "ipython",
    "version": 3
   },
   "file_extension": ".py",
   "mimetype": "text/x-python",
   "name": "python",
   "nbconvert_exporter": "python",
   "pygments_lexer": "ipython3",
   "version": "3.12.8"
  }
 },
 "nbformat": 4,
 "nbformat_minor": 2
}
