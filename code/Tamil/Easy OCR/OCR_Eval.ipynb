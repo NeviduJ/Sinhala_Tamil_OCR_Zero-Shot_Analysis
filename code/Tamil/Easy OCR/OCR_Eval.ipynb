{
 "cells": [
  {
   "cell_type": "code",
   "execution_count": 1,
   "metadata": {},
   "outputs": [],
   "source": [
    "from jiwer import wer, cer"
   ]
  },
  {
   "cell_type": "code",
   "execution_count": 2,
   "metadata": {},
   "outputs": [],
   "source": [
    "import pandas as pd\n",
    "import re"
   ]
  },
  {
   "cell_type": "code",
   "execution_count": 3,
   "metadata": {},
   "outputs": [],
   "source": [
    "df = pd.read_csv(\"Easy_OCR_Results.csv\")"
   ]
  },
  {
   "cell_type": "code",
   "execution_count": 4,
   "metadata": {},
   "outputs": [
    {
     "data": {
      "text/html": [
       "<div>\n",
       "<style scoped>\n",
       "    .dataframe tbody tr th:only-of-type {\n",
       "        vertical-align: middle;\n",
       "    }\n",
       "\n",
       "    .dataframe tbody tr th {\n",
       "        vertical-align: top;\n",
       "    }\n",
       "\n",
       "    .dataframe thead th {\n",
       "        text-align: right;\n",
       "    }\n",
       "</style>\n",
       "<table border=\"1\" class=\"dataframe\">\n",
       "  <thead>\n",
       "    <tr style=\"text-align: right;\">\n",
       "      <th></th>\n",
       "      <th>reference</th>\n",
       "      <th>generated</th>\n",
       "    </tr>\n",
       "  </thead>\n",
       "  <tbody>\n",
       "    <tr>\n",
       "      <th>0</th>\n",
       "      <td>இங்கச ர்ந்தமழப கப்படம எடத்தப்பதமக்கயம் இல்லய</td>\n",
       "      <td>ங்கச ர்ந்தமழப கப்படம எடத்தப்பதமக்கயம் இல்லய</td>\n",
       "    </tr>\n",
       "    <tr>\n",
       "      <th>1</th>\n",
       "      <td>ஆண்ட உனக்கபதத இல்ல ஆனல்நீ இம்மறகற்றஞ்சட்டப்பட்...</td>\n",
       "      <td>ஆண்ட உனக்கபதத இல்ல ஆனல்நீ</td>\n",
       "    </tr>\n",
       "    <tr>\n",
       "      <th>2</th>\n",
       "      <td>பர்களம்தயர் எல்லரம்தய ர் கபத்தல்கந்தளக்கம்</td>\n",
       "      <td>பர்களம்தயர் எல்லரம்தயர் கபத்தல்கந்தளக்கம்</td>\n",
       "    </tr>\n",
       "    <tr>\n",
       "      <th>3</th>\n",
       "      <td>அவர் எங்களடன்பணயற்றத்தடங்கம்பதஅவர்கள்சய்வர்கள்</td>\n",
       "      <td>அவர் எங்களடன்பணயற்றத்தடங்கம்பதஅவர்கள்சய்வர்கள்</td>\n",
       "    </tr>\n",
       "    <tr>\n",
       "      <th>4</th>\n",
       "      <td>நான் நாளை ஒரு சிகிச்சை வேண்டும் நீங்கள் அதை செ...</td>\n",
       "      <td>நான் நாளை ஒரு சிகிச்சை வேண்டும் நீங்கள் அதை செ...</td>\n",
       "    </tr>\n",
       "    <tr>\n",
       "      <th>5</th>\n",
       "      <td>நன்உங்கள்தய்க்கஅளத்த வக்கறத யநறவற்றமயற்ச க்கறன்</td>\n",
       "      <td>நன்உங்கள்தய்க்கஅளத்த வக்கறத யநறவற்றமயற்சக்கறன்</td>\n",
       "    </tr>\n",
       "    <tr>\n",
       "      <th>6</th>\n",
       "      <td>மன்னள் மறயஎஸ்ச னட்உற ப்பனர் மற்றம்பனப்பர்பரள</td>\n",
       "      <td>மன்னள் மறயஎஸ்ச னட்உற ப்பனர் மற்றம்பனப்பர்பரள</td>\n",
       "    </tr>\n",
       "    <tr>\n",
       "      <th>7</th>\n",
       "      <td>தலஆறவக்கறதக்ககசரயனப்ப ய் பர்ப்பமஞபகம்இரக்க</td>\n",
       "      <td>தலஆறவக்கறதக்ககசரயனப்பய் பர்ப்பமஞபகம்இரக்க</td>\n",
       "    </tr>\n",
       "    <tr>\n",
       "      <th>8</th>\n",
       "      <td>கறந்தபட்சம்நன்மடந்ததஎன்றசந்த ஷமகஇர க்கம் ஒரவரன...</td>\n",
       "      <td>கறந்தபட்சம்நன்மடந்ததஎன்றசந்த ஷமகஇரக்கம் ஒரவரன்...</td>\n",
       "    </tr>\n",
       "    <tr>\n",
       "      <th>9</th>\n",
       "      <td>நீங்கள்தன்அந்தமர ந்த எழதக்கண்டரப்பீர்கள்எனநனக்...</td>\n",
       "      <td>நீங்கள்தன்அந்தமரந்த எழதக்கண்டரப்பீர்கள்எனநனக்கறன்</td>\n",
       "    </tr>\n",
       "    <tr>\n",
       "      <th>10</th>\n",
       "      <td>அவங்க அம்மவக்கடக்கட்எடக்க வரசயல்நக்கறன்னவரம்பற</td>\n",
       "      <td>அவங்க அம்மவக்கடக்கட்எடக்க வரசயல்நக்கறன்னவரம்பற</td>\n",
       "    </tr>\n",
       "    <tr>\n",
       "      <th>11</th>\n",
       "      <td>தன்கட ம்பத்தற்கத்தரம்பப்பக வரம்பவதகஎன்ன டம்சன்னள்</td>\n",
       "      <td>தன்கடம்பத்தற்கத்தரம்பப்பக வரம்பவதகஎன்னடம்சன்னள்</td>\n",
       "    </tr>\n",
       "    <tr>\n",
       "      <th>12</th>\n",
       "      <td>நன்ப ந்தயநனவ ல் ஆனல்நன்மன்மறந்தவட்டன்வ ளம்பரங்...</td>\n",
       "      <td>நன்பந்தயநனவல் ஆனல்நன்மன்மறந்தவட்டன்வ ளம்பரங்கள...</td>\n",
       "    </tr>\n",
       "    <tr>\n",
       "      <th>13</th>\n",
       "      <td>உங்களக்கஎன்னமசம னநல நீங்க சல்லநன்கட்க இல்லதத</td>\n",
       "      <td>உங்களக்கஎன்னமசம னநல நீங்க சல்லநன்கட்க இல்லதத</td>\n",
       "    </tr>\n",
       "    <tr>\n",
       "      <th>14</th>\n",
       "      <td>உனக்கஏற்கனவநறய நண்பர்கள்இரக்கற ர்கள்என்பதசறப்ப...</td>\n",
       "      <td>உனக்கஏற்கனவநறய நண்பர்கள்இரக்கற ர்கள்என்பதசறப்ப...</td>\n",
       "    </tr>\n",
       "    <tr>\n",
       "      <th>15</th>\n",
       "      <td>ஏனன்றல்நம்பசவத பசவத பச வதஎன்றஎத யம்சய்வதல்ல</td>\n",
       "      <td>ஏனன்றல்நம்பசவத பசவத பச வதஎன்றஎத யம்சய்வதல்ல</td>\n",
       "    </tr>\n",
       "    <tr>\n",
       "      <th>16</th>\n",
       "      <td>அவங்கள வலயசய்யஅனப்ப ட்ட மச்சத்தநீ மட ச்சட</td>\n",
       "      <td>அவங்கள வலயசய்யஅனப்ப ட்ட மச்சத்தநீ மட ச்சட</td>\n",
       "    </tr>\n",
       "    <tr>\n",
       "      <th>17</th>\n",
       "      <td>தரம்பத்தரம்பஅவர்கள்இதய சய்கறர்கள் ஏனன ல்அநகவள்...</td>\n",
       "      <td>தரம்பத்தரம்பஅவர்கள்இதய சய்கறர்கள் ஏனன ல்அநகவள்...</td>\n",
       "    </tr>\n",
       "    <tr>\n",
       "      <th>18</th>\n",
       "      <td>களங்கள் நம்கட்ச வர்த்தகத்தத்ஒரவதயக்க ண்ட ரக்கவல்ல</td>\n",
       "      <td>களங்கள்நம்கட்ச வர்த்தகத்தத்ஒரவதயக்கண்ட ரக்கவல்ல</td>\n",
       "    </tr>\n",
       "    <tr>\n",
       "      <th>19</th>\n",
       "      <td>சலந மடங்களக்கமன் மரனவன் இளயக ழந்தயன்உடல் கண்ட ...</td>\n",
       "      <td>சலந மடங்களக்கமன் மரனவன்</td>\n",
       "    </tr>\n",
       "    <tr>\n",
       "      <th>20</th>\n",
       "      <td>உன்னடயபத வலயல் சர்வதற்கமன்னல்உல்லசமகஇரக்க</td>\n",
       "      <td>உன்னடயபத வலயல் சர்வதற்கமன்னல்உல்லசமகஇரக்க</td>\n",
       "    </tr>\n",
       "    <tr>\n",
       "      <th>21</th>\n",
       "      <td>வறஞ பகத்தக்கவந்ததயல்லம் அந்த கவர்ல வச்சரக்கன்</td>\n",
       "      <td>வறஞ பகத்தக்கவந்ததயல்லம் அந்த கவர்ல வச்சரக்கன்</td>\n",
       "    </tr>\n",
       "    <tr>\n",
       "      <th>22</th>\n",
       "      <td>ஆனல்அந்தநள க்கப்பன் ய ரக்கம் டட்டவக்கஇடஞ்சல்கட...</td>\n",
       "      <td>ஆனல்அந்தநளக்கப்பன்ய ரக்கம் டட்டவக்கஇடஞ்சல்கடக்...</td>\n",
       "    </tr>\n",
       "    <tr>\n",
       "      <th>23</th>\n",
       "      <td>என் அம்மவன்தங்கஎன்ன டய அத்தயன்கணவரக்கஏதசன்னர்</td>\n",
       "      <td>என்</td>\n",
       "    </tr>\n",
       "    <tr>\n",
       "      <th>24</th>\n",
       "      <td>இவர் கற்றவளஇல்லஎன்ற பரந்தரயஎனக்கஅளக்கவ ண்டம்</td>\n",
       "      <td>இவர் கற்றவளஇல்லஎன்ற பரந்தரயஎனக்கஅளக்கவண்டம்</td>\n",
       "    </tr>\n",
       "    <tr>\n",
       "      <th>25</th>\n",
       "      <td>நீங்கள் களீவ்ஸ்ம ல்ஸ்பல ஸதடர்ப கண்டதல மஅதகர ரச...</td>\n",
       "      <td>நீங்கள் களீவ்ஸ்ம ல்ஸ்பல ஸதடர்ப கண்டதல மஅதகர ரச...</td>\n",
       "    </tr>\n",
       "    <tr>\n",
       "      <th>26</th>\n",
       "      <td>ஏய் தழர்கள உங்களக்கஒரபனம்எடத்தக்கள்ளங்கள் நங்க...</td>\n",
       "      <td>ஏய்தழர்கள உங்களக்கஒரபனம்எடத்தக்கள்ளங்கள் நங்கள...</td>\n",
       "    </tr>\n",
       "    <tr>\n",
       "      <th>27</th>\n",
       "      <td>கடவக்கறயீட்டஉள்ள டவம் மகஐடக்கமலஸ்வப்சய்யவம்</td>\n",
       "      <td>கடவக்கறயீட்டஉள்ளடவம் மகஐடக்கமலஸ்வப்சய்யவம்</td>\n",
       "    </tr>\n",
       "    <tr>\n",
       "      <th>28</th>\n",
       "      <td>நன்த ன்சர யன் என்னச ற்றதன் எட்ட கள்கள ம்உள்ளன</td>\n",
       "      <td>நன்தன்சரயன் என்னசற்றதன் எட்ட கள்களம்உள்ளன</td>\n",
       "    </tr>\n",
       "    <tr>\n",
       "      <th>29</th>\n",
       "      <td>நன்ஒரவரத்தல்பறக்கண க்கப்பட்டன் இங்கம்அங்கம்</td>\n",
       "      <td>நன்ஒரவரத்தல்பறக்கணக்கப்பட்டன் இங்கம்அங்கம்</td>\n",
       "    </tr>\n",
       "  </tbody>\n",
       "</table>\n",
       "</div>"
      ],
      "text/plain": [
       "                                            reference  \\\n",
       "0        இங்கச ர்ந்தமழப கப்படம எடத்தப்பதமக்கயம் இல்லய   \n",
       "1   ஆண்ட உனக்கபதத இல்ல ஆனல்நீ இம்மறகற்றஞ்சட்டப்பட்...   \n",
       "2          பர்களம்தயர் எல்லரம்தய ர் கபத்தல்கந்தளக்கம்   \n",
       "3      அவர் எங்களடன்பணயற்றத்தடங்கம்பதஅவர்கள்சய்வர்கள்   \n",
       "4   நான் நாளை ஒரு சிகிச்சை வேண்டும் நீங்கள் அதை செ...   \n",
       "5     நன்உங்கள்தய்க்கஅளத்த வக்கறத யநறவற்றமயற்ச க்கறன்   \n",
       "6        மன்னள் மறயஎஸ்ச னட்உற ப்பனர் மற்றம்பனப்பர்பரள   \n",
       "7          தலஆறவக்கறதக்ககசரயனப்ப ய் பர்ப்பமஞபகம்இரக்க   \n",
       "8   கறந்தபட்சம்நன்மடந்ததஎன்றசந்த ஷமகஇர க்கம் ஒரவரன...   \n",
       "9   நீங்கள்தன்அந்தமர ந்த எழதக்கண்டரப்பீர்கள்எனநனக்...   \n",
       "10     அவங்க அம்மவக்கடக்கட்எடக்க வரசயல்நக்கறன்னவரம்பற   \n",
       "11  தன்கட ம்பத்தற்கத்தரம்பப்பக வரம்பவதகஎன்ன டம்சன்னள்   \n",
       "12  நன்ப ந்தயநனவ ல் ஆனல்நன்மன்மறந்தவட்டன்வ ளம்பரங்...   \n",
       "13       உங்களக்கஎன்னமசம னநல நீங்க சல்லநன்கட்க இல்லதத   \n",
       "14  உனக்கஏற்கனவநறய நண்பர்கள்இரக்கற ர்கள்என்பதசறப்ப...   \n",
       "15        ஏனன்றல்நம்பசவத பசவத பச வதஎன்றஎத யம்சய்வதல்ல   \n",
       "16          அவங்கள வலயசய்யஅனப்ப ட்ட மச்சத்தநீ மட ச்சட   \n",
       "17  தரம்பத்தரம்பஅவர்கள்இதய சய்கறர்கள் ஏனன ல்அநகவள்...   \n",
       "18  களங்கள் நம்கட்ச வர்த்தகத்தத்ஒரவதயக்க ண்ட ரக்கவல்ல   \n",
       "19  சலந மடங்களக்கமன் மரனவன் இளயக ழந்தயன்உடல் கண்ட ...   \n",
       "20          உன்னடயபத வலயல் சர்வதற்கமன்னல்உல்லசமகஇரக்க   \n",
       "21      வறஞ பகத்தக்கவந்ததயல்லம் அந்த கவர்ல வச்சரக்கன்   \n",
       "22  ஆனல்அந்தநள க்கப்பன் ய ரக்கம் டட்டவக்கஇடஞ்சல்கட...   \n",
       "23      என் அம்மவன்தங்கஎன்ன டய அத்தயன்கணவரக்கஏதசன்னர்   \n",
       "24       இவர் கற்றவளஇல்லஎன்ற பரந்தரயஎனக்கஅளக்கவ ண்டம்   \n",
       "25  நீங்கள் களீவ்ஸ்ம ல்ஸ்பல ஸதடர்ப கண்டதல மஅதகர ரச...   \n",
       "26  ஏய் தழர்கள உங்களக்கஒரபனம்எடத்தக்கள்ளங்கள் நங்க...   \n",
       "27        கடவக்கறயீட்டஉள்ள டவம் மகஐடக்கமலஸ்வப்சய்யவம்   \n",
       "28      நன்த ன்சர யன் என்னச ற்றதன் எட்ட கள்கள ம்உள்ளன   \n",
       "29        நன்ஒரவரத்தல்பறக்கண க்கப்பட்டன் இங்கம்அங்கம்   \n",
       "\n",
       "                                            generated  \n",
       "0         ங்கச ர்ந்தமழப கப்படம எடத்தப்பதமக்கயம் இல்லய  \n",
       "1                           ஆண்ட உனக்கபதத இல்ல ஆனல்நீ  \n",
       "2           பர்களம்தயர் எல்லரம்தயர் கபத்தல்கந்தளக்கம்  \n",
       "3      அவர் எங்களடன்பணயற்றத்தடங்கம்பதஅவர்கள்சய்வர்கள்  \n",
       "4   நான் நாளை ஒரு சிகிச்சை வேண்டும் நீங்கள் அதை செ...  \n",
       "5      நன்உங்கள்தய்க்கஅளத்த வக்கறத யநறவற்றமயற்சக்கறன்  \n",
       "6        மன்னள் மறயஎஸ்ச னட்உற ப்பனர் மற்றம்பனப்பர்பரள  \n",
       "7           தலஆறவக்கறதக்ககசரயனப்பய் பர்ப்பமஞபகம்இரக்க  \n",
       "8   கறந்தபட்சம்நன்மடந்ததஎன்றசந்த ஷமகஇரக்கம் ஒரவரன்...  \n",
       "9   நீங்கள்தன்அந்தமரந்த எழதக்கண்டரப்பீர்கள்எனநனக்கறன்  \n",
       "10     அவங்க அம்மவக்கடக்கட்எடக்க வரசயல்நக்கறன்னவரம்பற  \n",
       "11    தன்கடம்பத்தற்கத்தரம்பப்பக வரம்பவதகஎன்னடம்சன்னள்  \n",
       "12  நன்பந்தயநனவல் ஆனல்நன்மன்மறந்தவட்டன்வ ளம்பரங்கள...  \n",
       "13       உங்களக்கஎன்னமசம னநல நீங்க சல்லநன்கட்க இல்லதத  \n",
       "14  உனக்கஏற்கனவநறய நண்பர்கள்இரக்கற ர்கள்என்பதசறப்ப...  \n",
       "15        ஏனன்றல்நம்பசவத பசவத பச வதஎன்றஎத யம்சய்வதல்ல  \n",
       "16          அவங்கள வலயசய்யஅனப்ப ட்ட மச்சத்தநீ மட ச்சட  \n",
       "17  தரம்பத்தரம்பஅவர்கள்இதய சய்கறர்கள் ஏனன ல்அநகவள்...  \n",
       "18    களங்கள்நம்கட்ச வர்த்தகத்தத்ஒரவதயக்கண்ட ரக்கவல்ல  \n",
       "19                            சலந மடங்களக்கமன் மரனவன்  \n",
       "20          உன்னடயபத வலயல் சர்வதற்கமன்னல்உல்லசமகஇரக்க  \n",
       "21      வறஞ பகத்தக்கவந்ததயல்லம் அந்த கவர்ல வச்சரக்கன்  \n",
       "22  ஆனல்அந்தநளக்கப்பன்ய ரக்கம் டட்டவக்கஇடஞ்சல்கடக்...  \n",
       "23                                                என்  \n",
       "24        இவர் கற்றவளஇல்லஎன்ற பரந்தரயஎனக்கஅளக்கவண்டம்  \n",
       "25  நீங்கள் களீவ்ஸ்ம ல்ஸ்பல ஸதடர்ப கண்டதல மஅதகர ரச...  \n",
       "26  ஏய்தழர்கள உங்களக்கஒரபனம்எடத்தக்கள்ளங்கள் நங்கள...  \n",
       "27         கடவக்கறயீட்டஉள்ளடவம் மகஐடக்கமலஸ்வப்சய்யவம்  \n",
       "28          நன்தன்சரயன் என்னசற்றதன் எட்ட கள்களம்உள்ளன  \n",
       "29         நன்ஒரவரத்தல்பறக்கணக்கப்பட்டன் இங்கம்அங்கம்  "
      ]
     },
     "execution_count": 4,
     "metadata": {},
     "output_type": "execute_result"
    }
   ],
   "source": [
    "df.head(30)"
   ]
  },
  {
   "cell_type": "code",
   "execution_count": 5,
   "metadata": {},
   "outputs": [],
   "source": [
    "# def remove_non_sinhala(text):\n",
    "#      if isinstance(text, str):\n",
    "#         return ''.join(char for char in text if re.match(r'[\\u0D80-\\u0DFF\\s]', char))\n",
    "#      else:\n",
    "#         return ''  # or some other appropriate default value"
   ]
  },
  {
   "cell_type": "code",
   "execution_count": 6,
   "metadata": {},
   "outputs": [],
   "source": [
    "# df['reference'] = df['reference'].apply(remove_non_sinhala)\n",
    "# df['generated'] = df['generated'].apply(remove_non_sinhala)"
   ]
  },
  {
   "cell_type": "code",
   "execution_count": 7,
   "metadata": {},
   "outputs": [],
   "source": [
    "# df.head(30)"
   ]
  },
  {
   "cell_type": "code",
   "execution_count": 8,
   "metadata": {},
   "outputs": [],
   "source": [
    "empty_space_df_stripped = df[(df['reference'].str.strip() == '') & (df['generated'].str.strip() == '')]"
   ]
  },
  {
   "cell_type": "code",
   "execution_count": 9,
   "metadata": {},
   "outputs": [
    {
     "data": {
      "text/html": [
       "<div>\n",
       "<style scoped>\n",
       "    .dataframe tbody tr th:only-of-type {\n",
       "        vertical-align: middle;\n",
       "    }\n",
       "\n",
       "    .dataframe tbody tr th {\n",
       "        vertical-align: top;\n",
       "    }\n",
       "\n",
       "    .dataframe thead th {\n",
       "        text-align: right;\n",
       "    }\n",
       "</style>\n",
       "<table border=\"1\" class=\"dataframe\">\n",
       "  <thead>\n",
       "    <tr style=\"text-align: right;\">\n",
       "      <th></th>\n",
       "      <th>reference</th>\n",
       "      <th>generated</th>\n",
       "    </tr>\n",
       "  </thead>\n",
       "  <tbody>\n",
       "  </tbody>\n",
       "</table>\n",
       "</div>"
      ],
      "text/plain": [
       "Empty DataFrame\n",
       "Columns: [reference, generated]\n",
       "Index: []"
      ]
     },
     "execution_count": 9,
     "metadata": {},
     "output_type": "execute_result"
    }
   ],
   "source": [
    "empty_space_df_stripped"
   ]
  },
  {
   "cell_type": "code",
   "execution_count": 10,
   "metadata": {},
   "outputs": [],
   "source": [
    "indices_to_remove = df[(df['reference'].str.strip() == '') & (df['generated'].str.strip() == '')].index"
   ]
  },
  {
   "cell_type": "code",
   "execution_count": 11,
   "metadata": {},
   "outputs": [],
   "source": [
    "df = df.drop(indices_to_remove)"
   ]
  },
  {
   "cell_type": "code",
   "execution_count": 12,
   "metadata": {},
   "outputs": [],
   "source": [
    "df = df.reset_index(drop=True)"
   ]
  },
  {
   "cell_type": "code",
   "execution_count": 13,
   "metadata": {},
   "outputs": [
    {
     "name": "stdout",
     "output_type": "stream",
     "text": [
      "input nan was expected to be a string or list of strings\n",
      "reference    ஏன்ன எந்தஒர மட்டள்கதயம்எலக்ட்ரக் ரம்பத்தவ ச்சம...\n",
      "generated                                                  NaN\n",
      "Name: 4794, dtype: object\n",
      "4794\n"
     ]
    }
   ],
   "source": [
    "agg_error_wer = 0\n",
    "agg_error_cer = 0\n",
    "count = 0\n",
    "for i in range(len(df)):\n",
    "    record = df.iloc[i]\n",
    "    try:\n",
    "        error_wer = wer(record['reference'], record['generated'])\n",
    "        error_cer = cer(record['reference'], record['generated'])\n",
    "    except Exception as e:\n",
    "        print(e)\n",
    "        print(record)\n",
    "        print(i)\n",
    "        continue\n",
    "    count += 1\n",
    "    agg_error_wer += error_wer\n",
    "    agg_error_cer += error_cer"
   ]
  },
  {
   "cell_type": "code",
   "execution_count": 14,
   "metadata": {},
   "outputs": [
    {
     "name": "stdout",
     "output_type": "stream",
     "text": [
      "Word Error Rate (WER): 0.28757855946025745\n"
     ]
    }
   ],
   "source": [
    "print(f\"Word Error Rate (WER): {agg_error_wer/ count}\")"
   ]
  },
  {
   "cell_type": "code",
   "execution_count": 15,
   "metadata": {},
   "outputs": [
    {
     "name": "stdout",
     "output_type": "stream",
     "text": [
      "Character Error Rate (CER): 0.11722682062358418\n"
     ]
    }
   ],
   "source": [
    "print(f\"Character Error Rate (CER): {agg_error_cer/ count}\")"
   ]
  },
  {
   "cell_type": "code",
   "execution_count": 16,
   "metadata": {},
   "outputs": [],
   "source": [
    "# pip install evaluate"
   ]
  },
  {
   "cell_type": "code",
   "execution_count": 17,
   "metadata": {},
   "outputs": [],
   "source": [
    "# pip install nltk"
   ]
  },
  {
   "cell_type": "code",
   "execution_count": 18,
   "metadata": {},
   "outputs": [
    {
     "name": "stderr",
     "output_type": "stream",
     "text": [
      "[nltk_data] Downloading package wordnet to\n",
      "[nltk_data]     /Users/nevidujayatilleke/nltk_data...\n",
      "[nltk_data]   Package wordnet is already up-to-date!\n",
      "[nltk_data] Downloading package punkt to\n",
      "[nltk_data]     /Users/nevidujayatilleke/nltk_data...\n",
      "[nltk_data]   Package punkt is already up-to-date!\n"
     ]
    },
    {
     "data": {
      "text/plain": [
       "True"
      ]
     },
     "execution_count": 18,
     "metadata": {},
     "output_type": "execute_result"
    }
   ],
   "source": [
    "import nltk\n",
    "import ssl\n",
    "\n",
    "try:\n",
    "    _create_unverified_https_context = ssl._create_unverified_context\n",
    "except AttributeError:\n",
    "    pass\n",
    "else:\n",
    "    ssl._create_default_https_context = _create_unverified_https_context\n",
    "\n",
    "nltk.download('wordnet')\n",
    "nltk.download('punkt')"
   ]
  },
  {
   "cell_type": "code",
   "execution_count": 19,
   "metadata": {},
   "outputs": [],
   "source": [
    "from nltk.translate.meteor_score import meteor_score"
   ]
  },
  {
   "cell_type": "code",
   "execution_count": 20,
   "metadata": {},
   "outputs": [
    {
     "name": "stdout",
     "output_type": "stream",
     "text": [
      "Error: 'float' object has no attribute 'split'\n",
      "Problematic Record: reference    ஏன்ன எந்தஒர மட்டள்கதயம்எலக்ட்ரக் ரம்பத்தவ ச்சம...\n",
      "generated                                                  NaN\n",
      "Name: 4794, dtype: object\n",
      "Index: 4794\n"
     ]
    }
   ],
   "source": [
    "from nltk.translate.meteor_score import meteor_score\n",
    "\n",
    "agg_meteor = 0\n",
    "count = 0\n",
    "for i in range(len(df)):\n",
    "    record = df.iloc[i]\n",
    "    try:\n",
    "        reference_text = record['reference']\n",
    "        generated_text = record['generated']\n",
    "        reference_tokens = reference_text.split()\n",
    "        generated_tokens = generated_text.split()\n",
    "        # print(f\"Index: {i}\")\n",
    "        # print(\"Reference Text:\", reference_text)\n",
    "        # print(\"Generated Text:\", generated_text)\n",
    "        # print(\"Reference Tokens:\", reference_tokens)\n",
    "        # print(\"Generated Tokens:\", generated_tokens)\n",
    "        # print(\"Type of meteor_score:\", type(meteor_score))  # Check the type of the function\n",
    "        current_meteor_score = meteor_score([reference_tokens], generated_tokens)\n",
    "        # print(\"Meteor Score:\", current_meteor_score)\n",
    "    except Exception as e:\n",
    "        print(f\"Error: {e}\")\n",
    "        print(\"Problematic Record:\", record)\n",
    "        print(\"Index:\", i)\n",
    "        continue\n",
    "    count += 1\n",
    "    agg_meteor += current_meteor_score"
   ]
  },
  {
   "cell_type": "code",
   "execution_count": 21,
   "metadata": {},
   "outputs": [
    {
     "name": "stdout",
     "output_type": "stream",
     "text": [
      "\n",
      "Average METEOR score: 0.6744169278988168\n"
     ]
    }
   ],
   "source": [
    "if count > 0:\n",
    "    average_meteor = agg_meteor / count\n",
    "    print(f\"\\nAverage METEOR score: {average_meteor}\")\n",
    "else:\n",
    "    print(\"\\nNo valid scores were calculated.\")"
   ]
  },
  {
   "cell_type": "code",
   "execution_count": 22,
   "metadata": {},
   "outputs": [
    {
     "name": "stdout",
     "output_type": "stream",
     "text": [
      "Requirement already satisfied: Levenshtein in /Users/nevidujayatilleke/Documents/MSC - Research/OCR Comparative Analysis/.venv/lib/python3.12/site-packages (0.27.1)\n",
      "Requirement already satisfied: rapidfuzz<4.0.0,>=3.9.0 in /Users/nevidujayatilleke/Documents/MSC - Research/OCR Comparative Analysis/.venv/lib/python3.12/site-packages (from Levenshtein) (3.13.0)\n",
      "Note: you may need to restart the kernel to use updated packages.\n"
     ]
    }
   ],
   "source": [
    "pip install Levenshtein"
   ]
  },
  {
   "cell_type": "code",
   "execution_count": 23,
   "metadata": {},
   "outputs": [],
   "source": [
    "from Levenshtein import distance as levenshtein_distance  # You might need to install this: pip install python-Levenshtein"
   ]
  },
  {
   "cell_type": "code",
   "execution_count": 24,
   "metadata": {},
   "outputs": [],
   "source": [
    "def normalized_levenshtein_similarity(s1, s2):\n",
    "    \"\"\"Calculates the Normalized Levenshtein Similarity between two strings.\"\"\"\n",
    "    if not s1 and not s2:\n",
    "        return 1.0\n",
    "    elif not s1 or not s2:\n",
    "        return 0.0\n",
    "    distance = levenshtein_distance(s1, s2)\n",
    "    max_len = max(len(s1), len(s2))\n",
    "    similarity = 1 - (distance / max_len)\n",
    "    return similarity"
   ]
  },
  {
   "cell_type": "code",
   "execution_count": 25,
   "metadata": {},
   "outputs": [
    {
     "name": "stdout",
     "output_type": "stream",
     "text": [
      "Error calculating ANLS at index 4794: object of type 'float' has no len()\n",
      "Problematic Record: reference    ஏன்ன எந்தஒர மட்டள்கதயம்எலக்ட்ரக் ரம்பத்தவ ச்சம...\n",
      "generated                                                  NaN\n",
      "Name: 4794, dtype: object\n"
     ]
    }
   ],
   "source": [
    "agg_anls = 0\n",
    "count = 0\n",
    "for i in range(len(df)):\n",
    "    record = df.iloc[i]\n",
    "    reference_text = record['reference']\n",
    "    generated_text = record['generated']\n",
    "\n",
    "    # if pd.isna(reference_text) or not reference_text or pd.isna(generated_text) or not generated_text:\n",
    "    #     print(f\"Skipping record at index {i} for ANLS due to missing or empty reference/generated text:\")\n",
    "    #     print(\"Reference:\", reference_text)\n",
    "    #     print(\"Generated:\", generated_text)\n",
    "    #     continue\n",
    "\n",
    "    try:\n",
    "        similarity = normalized_levenshtein_similarity(reference_text, generated_text)\n",
    "        # print(f\"Index: {i}\")\n",
    "        # print(\"Reference:\", reference_text)\n",
    "        # print(\"Generated:\", generated_text)\n",
    "        # print(\"Normalized Levenshtein Similarity:\", similarity)\n",
    "        agg_anls += similarity\n",
    "        count += 1\n",
    "    except Exception as e:\n",
    "        print(f\"Error calculating ANLS at index {i}: {e}\")\n",
    "        print(\"Problematic Record:\", record)\n",
    "        continue"
   ]
  },
  {
   "cell_type": "code",
   "execution_count": 26,
   "metadata": {},
   "outputs": [
    {
     "name": "stdout",
     "output_type": "stream",
     "text": [
      "\n",
      "Average Normalized Levenshtein Similarity (ANLS): 0.8827736266140269\n"
     ]
    }
   ],
   "source": [
    "if count > 0:\n",
    "    average_anls = agg_anls / count\n",
    "    print(f\"\\nAverage Normalized Levenshtein Similarity (ANLS): {average_anls}\")\n",
    "else:\n",
    "    print(\"\\nNo valid ANLS scores were calculated.\")"
   ]
  },
  {
   "cell_type": "code",
   "execution_count": 27,
   "metadata": {},
   "outputs": [],
   "source": [
    "from nltk.translate.bleu_score import sentence_bleu"
   ]
  },
  {
   "cell_type": "code",
   "execution_count": 28,
   "metadata": {},
   "outputs": [
    {
     "name": "stderr",
     "output_type": "stream",
     "text": [
      "/Users/nevidujayatilleke/Documents/MSC - Research/OCR Comparative Analysis/.venv/lib/python3.12/site-packages/nltk/translate/bleu_score.py:577: UserWarning: \n",
      "The hypothesis contains 0 counts of 2-gram overlaps.\n",
      "Therefore the BLEU score evaluates to 0, independently of\n",
      "how many N-gram overlaps of lower order it contains.\n",
      "Consider using lower n-gram order or use SmoothingFunction()\n",
      "  warnings.warn(_msg)\n",
      "/Users/nevidujayatilleke/Documents/MSC - Research/OCR Comparative Analysis/.venv/lib/python3.12/site-packages/nltk/translate/bleu_score.py:577: UserWarning: \n",
      "The hypothesis contains 0 counts of 3-gram overlaps.\n",
      "Therefore the BLEU score evaluates to 0, independently of\n",
      "how many N-gram overlaps of lower order it contains.\n",
      "Consider using lower n-gram order or use SmoothingFunction()\n",
      "  warnings.warn(_msg)\n",
      "/Users/nevidujayatilleke/Documents/MSC - Research/OCR Comparative Analysis/.venv/lib/python3.12/site-packages/nltk/translate/bleu_score.py:577: UserWarning: \n",
      "The hypothesis contains 0 counts of 4-gram overlaps.\n",
      "Therefore the BLEU score evaluates to 0, independently of\n",
      "how many N-gram overlaps of lower order it contains.\n",
      "Consider using lower n-gram order or use SmoothingFunction()\n",
      "  warnings.warn(_msg)\n"
     ]
    }
   ],
   "source": [
    "total_bleu_score = 0\n",
    "valid_count = 0\n",
    "\n",
    "for i in range(len(df)):\n",
    "    record = df.iloc[i]\n",
    "    reference_text = record['reference']\n",
    "    generated_text = record['generated']\n",
    "\n",
    "    if pd.isna(reference_text) or not reference_text or pd.isna(generated_text) or not generated_text:\n",
    "        continue  # Skip rows with missing/empty values\n",
    "\n",
    "    try:\n",
    "        reference_tokens = [reference_text.split()]\n",
    "        generated_tokens = generated_text.split()\n",
    "        # Default BLEU score (BLEU-4 with equal weights)\n",
    "        sentence_bleu_score = sentence_bleu(reference_tokens, generated_tokens)\n",
    "        total_bleu_score += sentence_bleu_score\n",
    "        valid_count += 1\n",
    "    except Exception as e:\n",
    "        print(f\"Error calculating BLEU at index {i}: {e}\")\n",
    "        continue"
   ]
  },
  {
   "cell_type": "code",
   "execution_count": 29,
   "metadata": {},
   "outputs": [
    {
     "name": "stdout",
     "output_type": "stream",
     "text": [
      "Average BLEU Score: 0.34614097074241956\n"
     ]
    }
   ],
   "source": [
    "if valid_count > 0:\n",
    "    average_bleu = total_bleu_score / valid_count\n",
    "    print(f\"Average BLEU Score: {average_bleu}\")\n",
    "else:\n",
    "    print(\"No valid data to calculate the average BLEU score.\")"
   ]
  }
 ],
 "metadata": {
  "kernelspec": {
   "display_name": ".venv",
   "language": "python",
   "name": "python3"
  },
  "language_info": {
   "codemirror_mode": {
    "name": "ipython",
    "version": 3
   },
   "file_extension": ".py",
   "mimetype": "text/x-python",
   "name": "python",
   "nbconvert_exporter": "python",
   "pygments_lexer": "ipython3",
   "version": "3.12.8"
  }
 },
 "nbformat": 4,
 "nbformat_minor": 2
}
